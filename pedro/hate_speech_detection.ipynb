{
 "nbformat": 4,
 "nbformat_minor": 0,
 "metadata": {
  "colab": {
   "provenance": [],
   "collapsed_sections": []
  },
  "kernelspec": {
   "name": "python3",
   "display_name": "Python 3"
  },
  "language_info": {
   "name": "python"
  },
  "widgets": {
   "application/vnd.jupyter.widget-state+json": {
    "55ce49cb10ee4736a602fede0b8eb4d3": {
     "model_module": "@jupyter-widgets/controls",
     "model_name": "HBoxModel",
     "model_module_version": "1.5.0",
     "state": {
      "_dom_classes": [],
      "_model_module": "@jupyter-widgets/controls",
      "_model_module_version": "1.5.0",
      "_model_name": "HBoxModel",
      "_view_count": null,
      "_view_module": "@jupyter-widgets/controls",
      "_view_module_version": "1.5.0",
      "_view_name": "HBoxView",
      "box_style": "",
      "children": [
       "IPY_MODEL_22ba1fee1505445b9ca5a89eb7808db5",
       "IPY_MODEL_c92221bb2ea947b588356d9f92b4babf",
       "IPY_MODEL_1cdde10c279245f5ba2e97a4ccfdc265"
      ],
      "layout": "IPY_MODEL_aeba3ee7c25049fb908d70a15d95774d"
     }
    },
    "22ba1fee1505445b9ca5a89eb7808db5": {
     "model_module": "@jupyter-widgets/controls",
     "model_name": "HTMLModel",
     "model_module_version": "1.5.0",
     "state": {
      "_dom_classes": [],
      "_model_module": "@jupyter-widgets/controls",
      "_model_module_version": "1.5.0",
      "_model_name": "HTMLModel",
      "_view_count": null,
      "_view_module": "@jupyter-widgets/controls",
      "_view_module_version": "1.5.0",
      "_view_name": "HTMLView",
      "description": "",
      "description_tooltip": null,
      "layout": "IPY_MODEL_4b84763ea6014c278c858d1e39a53caf",
      "placeholder": "​",
      "style": "IPY_MODEL_60ac597d5e6840a2bf2a6ffad9d32b9c",
      "value": "100%"
     }
    },
    "c92221bb2ea947b588356d9f92b4babf": {
     "model_module": "@jupyter-widgets/controls",
     "model_name": "FloatProgressModel",
     "model_module_version": "1.5.0",
     "state": {
      "_dom_classes": [],
      "_model_module": "@jupyter-widgets/controls",
      "_model_module_version": "1.5.0",
      "_model_name": "FloatProgressModel",
      "_view_count": null,
      "_view_module": "@jupyter-widgets/controls",
      "_view_module_version": "1.5.0",
      "_view_name": "ProgressView",
      "bar_style": "success",
      "description": "",
      "description_tooltip": null,
      "layout": "IPY_MODEL_2eee2e1eaf64487684b3546f62454692",
      "max": 1,
      "min": 0,
      "orientation": "horizontal",
      "style": "IPY_MODEL_d06b2bf9dd654d398783427ac52d7cc6",
      "value": 1
     }
    },
    "1cdde10c279245f5ba2e97a4ccfdc265": {
     "model_module": "@jupyter-widgets/controls",
     "model_name": "HTMLModel",
     "model_module_version": "1.5.0",
     "state": {
      "_dom_classes": [],
      "_model_module": "@jupyter-widgets/controls",
      "_model_module_version": "1.5.0",
      "_model_name": "HTMLModel",
      "_view_count": null,
      "_view_module": "@jupyter-widgets/controls",
      "_view_module_version": "1.5.0",
      "_view_name": "HTMLView",
      "description": "",
      "description_tooltip": null,
      "layout": "IPY_MODEL_9c362432461846aca632b4d68ccb3880",
      "placeholder": "​",
      "style": "IPY_MODEL_dd0c98ba62ea443380a0816296b4aa9b",
      "value": " 1/1 [00:00&lt;00:00,  1.43it/s]"
     }
    },
    "aeba3ee7c25049fb908d70a15d95774d": {
     "model_module": "@jupyter-widgets/base",
     "model_name": "LayoutModel",
     "model_module_version": "1.2.0",
     "state": {
      "_model_module": "@jupyter-widgets/base",
      "_model_module_version": "1.2.0",
      "_model_name": "LayoutModel",
      "_view_count": null,
      "_view_module": "@jupyter-widgets/base",
      "_view_module_version": "1.2.0",
      "_view_name": "LayoutView",
      "align_content": null,
      "align_items": null,
      "align_self": null,
      "border": null,
      "bottom": null,
      "display": null,
      "flex": null,
      "flex_flow": null,
      "grid_area": null,
      "grid_auto_columns": null,
      "grid_auto_flow": null,
      "grid_auto_rows": null,
      "grid_column": null,
      "grid_gap": null,
      "grid_row": null,
      "grid_template_areas": null,
      "grid_template_columns": null,
      "grid_template_rows": null,
      "height": null,
      "justify_content": null,
      "justify_items": null,
      "left": null,
      "margin": null,
      "max_height": null,
      "max_width": null,
      "min_height": null,
      "min_width": null,
      "object_fit": null,
      "object_position": null,
      "order": null,
      "overflow": null,
      "overflow_x": null,
      "overflow_y": null,
      "padding": null,
      "right": null,
      "top": null,
      "visibility": null,
      "width": null
     }
    },
    "4b84763ea6014c278c858d1e39a53caf": {
     "model_module": "@jupyter-widgets/base",
     "model_name": "LayoutModel",
     "model_module_version": "1.2.0",
     "state": {
      "_model_module": "@jupyter-widgets/base",
      "_model_module_version": "1.2.0",
      "_model_name": "LayoutModel",
      "_view_count": null,
      "_view_module": "@jupyter-widgets/base",
      "_view_module_version": "1.2.0",
      "_view_name": "LayoutView",
      "align_content": null,
      "align_items": null,
      "align_self": null,
      "border": null,
      "bottom": null,
      "display": null,
      "flex": null,
      "flex_flow": null,
      "grid_area": null,
      "grid_auto_columns": null,
      "grid_auto_flow": null,
      "grid_auto_rows": null,
      "grid_column": null,
      "grid_gap": null,
      "grid_row": null,
      "grid_template_areas": null,
      "grid_template_columns": null,
      "grid_template_rows": null,
      "height": null,
      "justify_content": null,
      "justify_items": null,
      "left": null,
      "margin": null,
      "max_height": null,
      "max_width": null,
      "min_height": null,
      "min_width": null,
      "object_fit": null,
      "object_position": null,
      "order": null,
      "overflow": null,
      "overflow_x": null,
      "overflow_y": null,
      "padding": null,
      "right": null,
      "top": null,
      "visibility": null,
      "width": null
     }
    },
    "60ac597d5e6840a2bf2a6ffad9d32b9c": {
     "model_module": "@jupyter-widgets/controls",
     "model_name": "DescriptionStyleModel",
     "model_module_version": "1.5.0",
     "state": {
      "_model_module": "@jupyter-widgets/controls",
      "_model_module_version": "1.5.0",
      "_model_name": "DescriptionStyleModel",
      "_view_count": null,
      "_view_module": "@jupyter-widgets/base",
      "_view_module_version": "1.2.0",
      "_view_name": "StyleView",
      "description_width": ""
     }
    },
    "2eee2e1eaf64487684b3546f62454692": {
     "model_module": "@jupyter-widgets/base",
     "model_name": "LayoutModel",
     "model_module_version": "1.2.0",
     "state": {
      "_model_module": "@jupyter-widgets/base",
      "_model_module_version": "1.2.0",
      "_model_name": "LayoutModel",
      "_view_count": null,
      "_view_module": "@jupyter-widgets/base",
      "_view_module_version": "1.2.0",
      "_view_name": "LayoutView",
      "align_content": null,
      "align_items": null,
      "align_self": null,
      "border": null,
      "bottom": null,
      "display": null,
      "flex": null,
      "flex_flow": null,
      "grid_area": null,
      "grid_auto_columns": null,
      "grid_auto_flow": null,
      "grid_auto_rows": null,
      "grid_column": null,
      "grid_gap": null,
      "grid_row": null,
      "grid_template_areas": null,
      "grid_template_columns": null,
      "grid_template_rows": null,
      "height": null,
      "justify_content": null,
      "justify_items": null,
      "left": null,
      "margin": null,
      "max_height": null,
      "max_width": null,
      "min_height": null,
      "min_width": null,
      "object_fit": null,
      "object_position": null,
      "order": null,
      "overflow": null,
      "overflow_x": null,
      "overflow_y": null,
      "padding": null,
      "right": null,
      "top": null,
      "visibility": null,
      "width": null
     }
    },
    "d06b2bf9dd654d398783427ac52d7cc6": {
     "model_module": "@jupyter-widgets/controls",
     "model_name": "ProgressStyleModel",
     "model_module_version": "1.5.0",
     "state": {
      "_model_module": "@jupyter-widgets/controls",
      "_model_module_version": "1.5.0",
      "_model_name": "ProgressStyleModel",
      "_view_count": null,
      "_view_module": "@jupyter-widgets/base",
      "_view_module_version": "1.2.0",
      "_view_name": "StyleView",
      "bar_color": null,
      "description_width": ""
     }
    },
    "9c362432461846aca632b4d68ccb3880": {
     "model_module": "@jupyter-widgets/base",
     "model_name": "LayoutModel",
     "model_module_version": "1.2.0",
     "state": {
      "_model_module": "@jupyter-widgets/base",
      "_model_module_version": "1.2.0",
      "_model_name": "LayoutModel",
      "_view_count": null,
      "_view_module": "@jupyter-widgets/base",
      "_view_module_version": "1.2.0",
      "_view_name": "LayoutView",
      "align_content": null,
      "align_items": null,
      "align_self": null,
      "border": null,
      "bottom": null,
      "display": null,
      "flex": null,
      "flex_flow": null,
      "grid_area": null,
      "grid_auto_columns": null,
      "grid_auto_flow": null,
      "grid_auto_rows": null,
      "grid_column": null,
      "grid_gap": null,
      "grid_row": null,
      "grid_template_areas": null,
      "grid_template_columns": null,
      "grid_template_rows": null,
      "height": null,
      "justify_content": null,
      "justify_items": null,
      "left": null,
      "margin": null,
      "max_height": null,
      "max_width": null,
      "min_height": null,
      "min_width": null,
      "object_fit": null,
      "object_position": null,
      "order": null,
      "overflow": null,
      "overflow_x": null,
      "overflow_y": null,
      "padding": null,
      "right": null,
      "top": null,
      "visibility": null,
      "width": null
     }
    },
    "dd0c98ba62ea443380a0816296b4aa9b": {
     "model_module": "@jupyter-widgets/controls",
     "model_name": "DescriptionStyleModel",
     "model_module_version": "1.5.0",
     "state": {
      "_model_module": "@jupyter-widgets/controls",
      "_model_module_version": "1.5.0",
      "_model_name": "DescriptionStyleModel",
      "_view_count": null,
      "_view_module": "@jupyter-widgets/base",
      "_view_module_version": "1.2.0",
      "_view_name": "StyleView",
      "description_width": ""
     }
    }
   }
  }
 },
 "cells": [
  {
   "cell_type": "code",
   "source": [
    "#!pip install normalise"
   ],
   "metadata": {
    "id": "DP4vxN9tuRsc"
   },
   "execution_count": 1,
   "outputs": []
  },
  {
   "cell_type": "code",
   "execution_count": 2,
   "metadata": {
    "id": "M7wcbpEruLQj"
   },
   "outputs": [],
   "source": [
    "import numpy as np\n",
    "import multiprocessing as mp\n",
    "import pandas as pd\n",
    "import string\n",
    "import spacy \n",
    "from sklearn.base import TransformerMixin, BaseEstimator\n",
    "\n",
    "\n",
    "nlp = spacy.load(\"en_core_web_sm\")\n",
    "\n",
    "class TextPreprocessor(BaseEstimator, TransformerMixin):\n",
    "    def __init__(self,\n",
    "                 nlp = nlp,\n",
    "                 n_jobs=1):\n",
    "        \"\"\"\n",
    "        Text preprocessing transformer includes steps:\n",
    "            1. Punctuation removal\n",
    "            2. Stop words removal\n",
    "            3. Lemmatization\n",
    "\n",
    "        nlp  - spacy model\n",
    "        n_jobs - parallel jobs to run\n",
    "        \"\"\"\n",
    "        self.nlp = nlp\n",
    "        self.n_jobs = n_jobs\n",
    "\n",
    "    def fit(self, X, y=None):\n",
    "        return self\n",
    "\n",
    "    def transform(self, X, *_):\n",
    "        X_copy = X.copy()\n",
    "\n",
    "        partitions = 1\n",
    "        cores = mp.cpu_count()\n",
    "        if self.n_jobs <= -1:\n",
    "            partitions = cores\n",
    "        elif self.n_jobs <= 0:\n",
    "            return X_copy.apply(self._preprocess_text)\n",
    "        else:\n",
    "            partitions = min(self.n_jobs, cores)\n",
    "\n",
    "        data_split = np.array_split(X_copy, partitions)\n",
    "        pool = mp.Pool(cores)\n",
    "        data = pd.concat(pool.map(self._preprocess_part, data_split))\n",
    "        pool.close()\n",
    "        pool.join()\n",
    "\n",
    "        return data\n",
    "\n",
    "    def _preprocess_part(self, part):\n",
    "        return part.apply(self._preprocess_text)\n",
    "\n",
    "    def _preprocess_text(self, text):\n",
    "        doc = self.nlp(text)\n",
    "        removed_punct = self._remove_punct(doc)\n",
    "        removed_stop_words = self._remove_stop_words(removed_punct)\n",
    "        return self._lemmatize(removed_stop_words)\n",
    "\n",
    "    def _remove_punct(self, doc):\n",
    "        return (t for t in doc if t.text not in string.punctuation)\n",
    "\n",
    "    def _remove_stop_words(self, doc):\n",
    "        return (t for t in doc if not t.is_stop)\n",
    "\n",
    "    def _lemmatize(self, doc):\n",
    "        return ' '.join(t.lemma_ for t in doc)"
   ]
  },
  {
   "cell_type": "code",
   "source": [
    "!pip install datasets\n",
    "import datasets\n",
    "dataset = datasets.load_dataset('ucberkeley-dlab/measuring-hate-speech', 'binary')\n",
    "df = dataset['train'].to_pandas()\n",
    "df.describe()"
   ],
   "metadata": {
    "colab": {
     "base_uri": "https://localhost:8080/",
     "height": 1000,
     "referenced_widgets": [
      "55ce49cb10ee4736a602fede0b8eb4d3",
      "22ba1fee1505445b9ca5a89eb7808db5",
      "c92221bb2ea947b588356d9f92b4babf",
      "1cdde10c279245f5ba2e97a4ccfdc265",
      "aeba3ee7c25049fb908d70a15d95774d",
      "4b84763ea6014c278c858d1e39a53caf",
      "60ac597d5e6840a2bf2a6ffad9d32b9c",
      "2eee2e1eaf64487684b3546f62454692",
      "d06b2bf9dd654d398783427ac52d7cc6",
      "9c362432461846aca632b4d68ccb3880",
      "dd0c98ba62ea443380a0816296b4aa9b"
     ]
    },
    "id": "tWG3KH868tco",
    "outputId": "038474cc-2720-4733-d106-9900a5b9d2a0"
   },
   "execution_count": 3,
   "outputs": [
    {
     "name": "stdout",
     "output_type": "stream",
     "text": [
      "Requirement already satisfied: datasets in c:\\users\\pedro\\anaconda3\\lib\\site-packages (2.5.1)\n",
      "Requirement already satisfied: aiohttp in c:\\users\\pedro\\anaconda3\\lib\\site-packages (from datasets) (3.8.1)\n",
      "Requirement already satisfied: xxhash in c:\\users\\pedro\\anaconda3\\lib\\site-packages (from datasets) (2.0.2)\n",
      "Requirement already satisfied: responses<0.19 in c:\\users\\pedro\\anaconda3\\lib\\site-packages (from datasets) (0.13.3)\n",
      "Requirement already satisfied: fsspec[http]>=2021.11.1 in c:\\users\\pedro\\anaconda3\\lib\\site-packages (from datasets) (2022.7.1)\n",
      "Requirement already satisfied: multiprocess in c:\\users\\pedro\\anaconda3\\lib\\site-packages (from datasets) (0.70.12.2)\n",
      "Requirement already satisfied: numpy>=1.17 in c:\\users\\pedro\\anaconda3\\lib\\site-packages (from datasets) (1.21.5)\n",
      "Requirement already satisfied: pyarrow>=6.0.0 in c:\\users\\pedro\\anaconda3\\lib\\site-packages (from datasets) (8.0.0)\n",
      "Requirement already satisfied: dill<0.3.6 in c:\\users\\pedro\\anaconda3\\lib\\site-packages (from datasets) (0.3.4)\n",
      "Requirement already satisfied: packaging in c:\\users\\pedro\\anaconda3\\lib\\site-packages (from datasets) (21.3)\n",
      "Requirement already satisfied: requests>=2.19.0 in c:\\users\\pedro\\anaconda3\\lib\\site-packages (from datasets) (2.28.1)\n",
      "Requirement already satisfied: tqdm>=4.62.1 in c:\\users\\pedro\\anaconda3\\lib\\site-packages (from datasets) (4.64.0)\n",
      "Requirement already satisfied: huggingface-hub<1.0.0,>=0.1.0 in c:\\users\\pedro\\anaconda3\\lib\\site-packages (from datasets) (0.6.0)\n",
      "Requirement already satisfied: pandas in c:\\users\\pedro\\anaconda3\\lib\\site-packages (from datasets) (1.4.4)\n",
      "Requirement already satisfied: typing-extensions>=3.7.4.3 in c:\\users\\pedro\\anaconda3\\lib\\site-packages (from huggingface-hub<1.0.0,>=0.1.0->datasets) (4.3.0)\n",
      "Requirement already satisfied: filelock in c:\\users\\pedro\\anaconda3\\lib\\site-packages (from huggingface-hub<1.0.0,>=0.1.0->datasets) (3.6.0)\n",
      "Requirement already satisfied: pyyaml in c:\\users\\pedro\\anaconda3\\lib\\site-packages (from huggingface-hub<1.0.0,>=0.1.0->datasets) (6.0)\n",
      "Requirement already satisfied: pyparsing!=3.0.5,>=2.0.2 in c:\\users\\pedro\\anaconda3\\lib\\site-packages (from packaging->datasets) (3.0.9)\n",
      "Requirement already satisfied: urllib3<1.27,>=1.21.1 in c:\\users\\pedro\\anaconda3\\lib\\site-packages (from requests>=2.19.0->datasets) (1.26.11)\n",
      "Requirement already satisfied: idna<4,>=2.5 in c:\\users\\pedro\\anaconda3\\lib\\site-packages (from requests>=2.19.0->datasets) (3.3)\n",
      "Requirement already satisfied: certifi>=2017.4.17 in c:\\users\\pedro\\anaconda3\\lib\\site-packages (from requests>=2.19.0->datasets) (2022.9.14)\n",
      "Requirement already satisfied: charset-normalizer<3,>=2 in c:\\users\\pedro\\anaconda3\\lib\\site-packages (from requests>=2.19.0->datasets) (2.0.4)\n",
      "Requirement already satisfied: six in c:\\users\\pedro\\anaconda3\\lib\\site-packages (from responses<0.19->datasets) (1.16.0)\n",
      "Requirement already satisfied: colorama in c:\\users\\pedro\\anaconda3\\lib\\site-packages (from tqdm>=4.62.1->datasets) (0.4.5)\n",
      "Requirement already satisfied: aiosignal>=1.1.2 in c:\\users\\pedro\\anaconda3\\lib\\site-packages (from aiohttp->datasets) (1.2.0)\n",
      "Requirement already satisfied: frozenlist>=1.1.1 in c:\\users\\pedro\\anaconda3\\lib\\site-packages (from aiohttp->datasets) (1.2.0)\n",
      "Requirement already satisfied: async-timeout<5.0,>=4.0.0a3 in c:\\users\\pedro\\anaconda3\\lib\\site-packages (from aiohttp->datasets) (4.0.1)\n",
      "Requirement already satisfied: multidict<7.0,>=4.5 in c:\\users\\pedro\\anaconda3\\lib\\site-packages (from aiohttp->datasets) (5.2.0)\n",
      "Requirement already satisfied: attrs>=17.3.0 in c:\\users\\pedro\\anaconda3\\lib\\site-packages (from aiohttp->datasets) (21.4.0)\n",
      "Requirement already satisfied: yarl<2.0,>=1.0 in c:\\users\\pedro\\anaconda3\\lib\\site-packages (from aiohttp->datasets) (1.8.1)\n",
      "Requirement already satisfied: pytz>=2020.1 in c:\\users\\pedro\\anaconda3\\lib\\site-packages (from pandas->datasets) (2022.1)\n",
      "Requirement already satisfied: python-dateutil>=2.8.1 in c:\\users\\pedro\\anaconda3\\lib\\site-packages (from pandas->datasets) (2.8.2)\n"
     ]
    },
    {
     "name": "stderr",
     "output_type": "stream",
     "text": [
      "Using custom data configuration ucberkeley-dlab--measuring-hate-speech-b2914663eaad033d\n",
      "Found cached dataset parquet (C:/Users/pedro/.cache/huggingface/datasets/ucberkeley-dlab___parquet/ucberkeley-dlab--measuring-hate-speech-b2914663eaad033d/0.0.0/2a3b91fbd88a2c90d1dbbb32b460cf621d31bd5b05b934492fdef7d8d6f236ec)\n"
     ]
    },
    {
     "data": {
      "text/plain": "  0%|          | 0/1 [00:00<?, ?it/s]",
      "application/vnd.jupyter.widget-view+json": {
       "version_major": 2,
       "version_minor": 0,
       "model_id": "6e4f32a0ea404c5994710e29abff6832"
      }
     },
     "metadata": {},
     "output_type": "display_data"
    },
    {
     "data": {
      "text/plain": "          comment_id   annotator_id       platform      sentiment  \\\ncount  135556.000000  135556.000000  135556.000000  135556.000000   \nmean    23530.416138    5567.097812       1.281352       2.954307   \nstd     12387.194125    3230.508937       1.023542       1.231552   \nmin         1.000000       1.000000       0.000000       0.000000   \n25%     18148.000000    2719.000000       0.000000       2.000000   \n50%     20052.000000    5602.500000       1.000000       3.000000   \n75%     32038.250000    8363.000000       2.000000       4.000000   \nmax     50070.000000   11142.000000       3.000000       4.000000   \n\n             respect        insult      humiliate         status  \\\ncount  135556.000000  135556.00000  135556.000000  135556.000000   \nmean        2.828875       2.56331       2.278638       2.698575   \nstd         1.309548       1.38983       1.370876       0.898500   \nmin         0.000000       0.00000       0.000000       0.000000   \n25%         2.000000       2.00000       1.000000       2.000000   \n50%         3.000000       3.00000       3.000000       3.000000   \n75%         4.000000       4.00000       3.000000       3.000000   \nmax         4.000000       4.00000       4.000000       4.000000   \n\n          dehumanize       violence  ...     hatespeech  hate_speech_score  \\\ncount  135556.000000  135556.000000  ...  135556.000000      135556.000000   \nmean        1.846211       1.052045  ...       0.744733          -0.567428   \nstd         1.402372       1.345706  ...       0.932260           2.380003   \nmin         0.000000       0.000000  ...       0.000000          -8.340000   \n25%         1.000000       0.000000  ...       0.000000          -2.330000   \n50%         2.000000       0.000000  ...       0.000000          -0.340000   \n75%         3.000000       2.000000  ...       2.000000           1.410000   \nmax         4.000000       4.000000  ...       2.000000           6.300000   \n\n             infitms       outfitms  annotator_severity        std_err  \\\ncount  135556.000000  135556.000000       135556.000000  135556.000000   \nmean        1.034322       1.001052           -0.018817       0.300588   \nstd         0.496867       0.791943            0.487261       0.236380   \nmin         0.100000       0.070000           -1.820000       0.020000   \n25%         0.710000       0.560000           -0.380000       0.030000   \n50%         0.960000       0.830000           -0.020000       0.340000   \n75%         1.300000       1.220000            0.350000       0.420000   \nmax         5.900000       9.000000            1.360000       1.900000   \n\n       annotator_infitms  annotator_outfitms     hypothesis  annotator_age  \ncount      135556.000000       135556.000000  135556.000000  135451.000000  \nmean            1.007158            1.011841       0.014589      37.910772  \nstd             0.269876            0.675863       0.613006      11.641276  \nmin             0.390000            0.280000      -1.578693      18.000000  \n25%             0.810000            0.670000      -0.341008      29.000000  \n50%             0.970000            0.850000       0.110405      35.000000  \n75%             1.170000            1.130000       0.449555      45.000000  \nmax             2.010000            9.000000       0.987511      81.000000  \n\n[8 rows x 22 columns]",
      "text/html": "<div>\n<style scoped>\n    .dataframe tbody tr th:only-of-type {\n        vertical-align: middle;\n    }\n\n    .dataframe tbody tr th {\n        vertical-align: top;\n    }\n\n    .dataframe thead th {\n        text-align: right;\n    }\n</style>\n<table border=\"1\" class=\"dataframe\">\n  <thead>\n    <tr style=\"text-align: right;\">\n      <th></th>\n      <th>comment_id</th>\n      <th>annotator_id</th>\n      <th>platform</th>\n      <th>sentiment</th>\n      <th>respect</th>\n      <th>insult</th>\n      <th>humiliate</th>\n      <th>status</th>\n      <th>dehumanize</th>\n      <th>violence</th>\n      <th>...</th>\n      <th>hatespeech</th>\n      <th>hate_speech_score</th>\n      <th>infitms</th>\n      <th>outfitms</th>\n      <th>annotator_severity</th>\n      <th>std_err</th>\n      <th>annotator_infitms</th>\n      <th>annotator_outfitms</th>\n      <th>hypothesis</th>\n      <th>annotator_age</th>\n    </tr>\n  </thead>\n  <tbody>\n    <tr>\n      <th>count</th>\n      <td>135556.000000</td>\n      <td>135556.000000</td>\n      <td>135556.000000</td>\n      <td>135556.000000</td>\n      <td>135556.000000</td>\n      <td>135556.00000</td>\n      <td>135556.000000</td>\n      <td>135556.000000</td>\n      <td>135556.000000</td>\n      <td>135556.000000</td>\n      <td>...</td>\n      <td>135556.000000</td>\n      <td>135556.000000</td>\n      <td>135556.000000</td>\n      <td>135556.000000</td>\n      <td>135556.000000</td>\n      <td>135556.000000</td>\n      <td>135556.000000</td>\n      <td>135556.000000</td>\n      <td>135556.000000</td>\n      <td>135451.000000</td>\n    </tr>\n    <tr>\n      <th>mean</th>\n      <td>23530.416138</td>\n      <td>5567.097812</td>\n      <td>1.281352</td>\n      <td>2.954307</td>\n      <td>2.828875</td>\n      <td>2.56331</td>\n      <td>2.278638</td>\n      <td>2.698575</td>\n      <td>1.846211</td>\n      <td>1.052045</td>\n      <td>...</td>\n      <td>0.744733</td>\n      <td>-0.567428</td>\n      <td>1.034322</td>\n      <td>1.001052</td>\n      <td>-0.018817</td>\n      <td>0.300588</td>\n      <td>1.007158</td>\n      <td>1.011841</td>\n      <td>0.014589</td>\n      <td>37.910772</td>\n    </tr>\n    <tr>\n      <th>std</th>\n      <td>12387.194125</td>\n      <td>3230.508937</td>\n      <td>1.023542</td>\n      <td>1.231552</td>\n      <td>1.309548</td>\n      <td>1.38983</td>\n      <td>1.370876</td>\n      <td>0.898500</td>\n      <td>1.402372</td>\n      <td>1.345706</td>\n      <td>...</td>\n      <td>0.932260</td>\n      <td>2.380003</td>\n      <td>0.496867</td>\n      <td>0.791943</td>\n      <td>0.487261</td>\n      <td>0.236380</td>\n      <td>0.269876</td>\n      <td>0.675863</td>\n      <td>0.613006</td>\n      <td>11.641276</td>\n    </tr>\n    <tr>\n      <th>min</th>\n      <td>1.000000</td>\n      <td>1.000000</td>\n      <td>0.000000</td>\n      <td>0.000000</td>\n      <td>0.000000</td>\n      <td>0.00000</td>\n      <td>0.000000</td>\n      <td>0.000000</td>\n      <td>0.000000</td>\n      <td>0.000000</td>\n      <td>...</td>\n      <td>0.000000</td>\n      <td>-8.340000</td>\n      <td>0.100000</td>\n      <td>0.070000</td>\n      <td>-1.820000</td>\n      <td>0.020000</td>\n      <td>0.390000</td>\n      <td>0.280000</td>\n      <td>-1.578693</td>\n      <td>18.000000</td>\n    </tr>\n    <tr>\n      <th>25%</th>\n      <td>18148.000000</td>\n      <td>2719.000000</td>\n      <td>0.000000</td>\n      <td>2.000000</td>\n      <td>2.000000</td>\n      <td>2.00000</td>\n      <td>1.000000</td>\n      <td>2.000000</td>\n      <td>1.000000</td>\n      <td>0.000000</td>\n      <td>...</td>\n      <td>0.000000</td>\n      <td>-2.330000</td>\n      <td>0.710000</td>\n      <td>0.560000</td>\n      <td>-0.380000</td>\n      <td>0.030000</td>\n      <td>0.810000</td>\n      <td>0.670000</td>\n      <td>-0.341008</td>\n      <td>29.000000</td>\n    </tr>\n    <tr>\n      <th>50%</th>\n      <td>20052.000000</td>\n      <td>5602.500000</td>\n      <td>1.000000</td>\n      <td>3.000000</td>\n      <td>3.000000</td>\n      <td>3.00000</td>\n      <td>3.000000</td>\n      <td>3.000000</td>\n      <td>2.000000</td>\n      <td>0.000000</td>\n      <td>...</td>\n      <td>0.000000</td>\n      <td>-0.340000</td>\n      <td>0.960000</td>\n      <td>0.830000</td>\n      <td>-0.020000</td>\n      <td>0.340000</td>\n      <td>0.970000</td>\n      <td>0.850000</td>\n      <td>0.110405</td>\n      <td>35.000000</td>\n    </tr>\n    <tr>\n      <th>75%</th>\n      <td>32038.250000</td>\n      <td>8363.000000</td>\n      <td>2.000000</td>\n      <td>4.000000</td>\n      <td>4.000000</td>\n      <td>4.00000</td>\n      <td>3.000000</td>\n      <td>3.000000</td>\n      <td>3.000000</td>\n      <td>2.000000</td>\n      <td>...</td>\n      <td>2.000000</td>\n      <td>1.410000</td>\n      <td>1.300000</td>\n      <td>1.220000</td>\n      <td>0.350000</td>\n      <td>0.420000</td>\n      <td>1.170000</td>\n      <td>1.130000</td>\n      <td>0.449555</td>\n      <td>45.000000</td>\n    </tr>\n    <tr>\n      <th>max</th>\n      <td>50070.000000</td>\n      <td>11142.000000</td>\n      <td>3.000000</td>\n      <td>4.000000</td>\n      <td>4.000000</td>\n      <td>4.00000</td>\n      <td>4.000000</td>\n      <td>4.000000</td>\n      <td>4.000000</td>\n      <td>4.000000</td>\n      <td>...</td>\n      <td>2.000000</td>\n      <td>6.300000</td>\n      <td>5.900000</td>\n      <td>9.000000</td>\n      <td>1.360000</td>\n      <td>1.900000</td>\n      <td>2.010000</td>\n      <td>9.000000</td>\n      <td>0.987511</td>\n      <td>81.000000</td>\n    </tr>\n  </tbody>\n</table>\n<p>8 rows × 22 columns</p>\n</div>"
     },
     "execution_count": 3,
     "metadata": {},
     "output_type": "execute_result"
    }
   ]
  },
  {
   "cell_type": "code",
   "source": [
    "\n",
    "df[['hatespeech', 'text']]"
   ],
   "metadata": {
    "colab": {
     "base_uri": "https://localhost:8080/",
     "height": 424
    },
    "id": "C8rAvbsw9Mib",
    "outputId": "5ae4677f-906b-4a34-e464-cce84edadcd4"
   },
   "execution_count": 4,
   "outputs": [
    {
     "data": {
      "text/plain": "        hatespeech                                               text\n0              0.0  Yes indeed. She sort of reminds me of the elde...\n1              0.0  The trans women reading this tweet right now i...\n2              2.0  Question: These 4 broads who criticize America...\n3              0.0  It is about time for all illegals to go back t...\n4              2.0  For starters bend over the one in pink and kic...\n...            ...                                                ...\n135551         0.0  عاجل سماحة #السيد_عبدالملك_بدرالدين_الحوثي  نص...\n135552         0.0  Millions of #Yemen-is participated in mass ral...\n135553         0.0  @AbeShinzo @realDonaldTrump @shinzoabe 独裁者は行きま...\n135554         0.0  Millions of #Yemen-is participated in mass ral...\n135555         2.0  لا تتشمت الرجال مسكين يعاني كس امه 😂. يقول يال...\n\n[135556 rows x 2 columns]",
      "text/html": "<div>\n<style scoped>\n    .dataframe tbody tr th:only-of-type {\n        vertical-align: middle;\n    }\n\n    .dataframe tbody tr th {\n        vertical-align: top;\n    }\n\n    .dataframe thead th {\n        text-align: right;\n    }\n</style>\n<table border=\"1\" class=\"dataframe\">\n  <thead>\n    <tr style=\"text-align: right;\">\n      <th></th>\n      <th>hatespeech</th>\n      <th>text</th>\n    </tr>\n  </thead>\n  <tbody>\n    <tr>\n      <th>0</th>\n      <td>0.0</td>\n      <td>Yes indeed. She sort of reminds me of the elde...</td>\n    </tr>\n    <tr>\n      <th>1</th>\n      <td>0.0</td>\n      <td>The trans women reading this tweet right now i...</td>\n    </tr>\n    <tr>\n      <th>2</th>\n      <td>2.0</td>\n      <td>Question: These 4 broads who criticize America...</td>\n    </tr>\n    <tr>\n      <th>3</th>\n      <td>0.0</td>\n      <td>It is about time for all illegals to go back t...</td>\n    </tr>\n    <tr>\n      <th>4</th>\n      <td>2.0</td>\n      <td>For starters bend over the one in pink and kic...</td>\n    </tr>\n    <tr>\n      <th>...</th>\n      <td>...</td>\n      <td>...</td>\n    </tr>\n    <tr>\n      <th>135551</th>\n      <td>0.0</td>\n      <td>عاجل سماحة #السيد_عبدالملك_بدرالدين_الحوثي  نص...</td>\n    </tr>\n    <tr>\n      <th>135552</th>\n      <td>0.0</td>\n      <td>Millions of #Yemen-is participated in mass ral...</td>\n    </tr>\n    <tr>\n      <th>135553</th>\n      <td>0.0</td>\n      <td>@AbeShinzo @realDonaldTrump @shinzoabe 独裁者は行きま...</td>\n    </tr>\n    <tr>\n      <th>135554</th>\n      <td>0.0</td>\n      <td>Millions of #Yemen-is participated in mass ral...</td>\n    </tr>\n    <tr>\n      <th>135555</th>\n      <td>2.0</td>\n      <td>لا تتشمت الرجال مسكين يعاني كس امه 😂. يقول يال...</td>\n    </tr>\n  </tbody>\n</table>\n<p>135556 rows × 2 columns</p>\n</div>"
     },
     "execution_count": 4,
     "metadata": {},
     "output_type": "execute_result"
    }
   ]
  },
  {
   "cell_type": "code",
   "source": [
    "df[\"hatespeech\"].value_counts()"
   ],
   "metadata": {
    "colab": {
     "base_uri": "https://localhost:8080/"
    },
    "id": "kyoL5bHBGisE",
    "outputId": "b4b367d9-f05a-4ad0-9d91-11c9ed1e602c"
   },
   "execution_count": 5,
   "outputs": [
    {
     "data": {
      "text/plain": "0.0    80624\n2.0    46021\n1.0     8911\nName: hatespeech, dtype: int64"
     },
     "execution_count": 5,
     "metadata": {},
     "output_type": "execute_result"
    }
   ]
  },
  {
   "cell_type": "code",
   "source": [
    "df['hatespeech'] = (df['hatespeech']).apply(lambda x: 1 if x > 0 else 0)"
   ],
   "metadata": {
    "id": "Y1qD24b9xyxr"
   },
   "execution_count": 6,
   "outputs": []
  },
  {
   "cell_type": "code",
   "source": [
    "df['hatespeech'] .value_counts(normalize=True)"
   ],
   "metadata": {
    "colab": {
     "base_uri": "https://localhost:8080/"
    },
    "id": "b1aiodWcs1LY",
    "outputId": "a4525bf2-4de5-4155-c3f0-9468515d3763"
   },
   "execution_count": 7,
   "outputs": [
    {
     "data": {
      "text/plain": "0    0.594765\n1    0.405235\nName: hatespeech, dtype: float64"
     },
     "execution_count": 7,
     "metadata": {},
     "output_type": "execute_result"
    }
   ]
  },
  {
   "cell_type": "code",
   "source": [
    "from sklearn.feature_extraction.text import TfidfVectorizer\n",
    "from sklearn.linear_model import  LogisticRegressionCV\n",
    "from sklearn.pipeline import Pipeline\n",
    "from sklearn.model_selection import train_test_split\n",
    "from sklearn.naive_bayes import MultinomialNB\n",
    "from sklearn.metrics.pairwise import normalize\n",
    "from sklearn.model_selection import KFold\n",
    "\n",
    "X = df[\"text\"]\n",
    "y = df['hatespeech']\n",
    "\n",
    "X_train, X_test, y_train, y_test = train_test_split(X, y, random_state= 42, test_size= .3, stratify= y)\n",
    "\n",
    "clf  = Pipeline(steps=[\n",
    "        ('normalize', TextPreprocessor(n_jobs=-1)), \n",
    "        ('features', TfidfVectorizer(ngram_range=(1, 2), sublinear_tf=True)),\n",
    "        ('classifier', LogisticRegressionCV(cv=5,solver='saga',scoring='accuracy', n_jobs=-1, verbose=0))\n",
    "    ])\n",
    "\n",
    "clf.fit(X_train, y_train)\n",
    "y_pred_log = clf.predict(X_test)\n",
    "clf1_score = clf.score(X_train, y_train)"
   ],
   "metadata": {
    "colab": {
     "base_uri": "https://localhost:8080/"
    },
    "id": "vL0NTS2b8cDS",
    "outputId": "f17ff3ed-4f46-4d9d-f53c-821a393efb6f",
    "pycharm": {
     "is_executing": true
    }
   },
   "execution_count": null,
   "outputs": []
  },
  {
   "cell_type": "code",
   "source": [
    "from sklearn.metrics._plot.confusion_matrix import plot_confusion_matrix\n",
    "\n",
    "plot_confusion_matrix(clf, X_test, y_test)"
   ],
   "metadata": {
    "colab": {
     "base_uri": "https://localhost:8080/",
     "height": 351
    },
    "id": "FQq9vVAl0zHT",
    "outputId": "de58b5dc-8960-46b9-afb5-efce1b5b181c",
    "pycharm": {
     "is_executing": true
    }
   },
   "execution_count": null,
   "outputs": []
  },
  {
   "cell_type": "code",
   "source": [
    "def cross_validation_pip(X_train, y_train, estimator, num_split = 5):\n",
    "  \n",
    "  kf = KFold(n_splits= num_split)\n",
    "\n",
    "  kf.get_n_splits(X_train)\n",
    "  \n",
    "  score_val_list = []\n",
    "  score_train_list = []\n",
    "  \n",
    "  for train_index, test_index in kf.split(X):\n",
    "      # print(\"TRAIN:\", train_index, \"TEST:\", test_index)\n",
    "      X_train, X_test = X[train_index], X[test_index]\n",
    "      y_train, y_test = y[train_index], y[test_index]\n",
    "      estimator.fit(X_train, y_train)\n",
    "\n",
    "      # now how did we do?\n",
    "      accuracy_train = estimator.score(X_train, y_train)\n",
    "      accuracy_val = estimator.score(X_test, y_test)\n",
    "      score_val_list.append(accuracy_val)\n",
    "      score_train_list.append(accuracy_train)\n",
    "    \n",
    "  return {'train': np.mean(score_train_list), 'validation': np.mean(score_val_list)}"
   ],
   "metadata": {
    "id": "S2fVdI5-jc3a",
    "pycharm": {
     "is_executing": true
    }
   },
   "execution_count": null,
   "outputs": []
  },
  {
   "cell_type": "code",
   "source": [
    "clf2  = Pipeline(steps=[\n",
    "        ('normalize', TextPreprocessor(n_jobs=-1)), \n",
    "        ('features', TfidfVectorizer(ngram_range=(1, 2), sublinear_tf=True)),\n",
    "        ('classifier', MultinomialNB(alpha=1.0, fit_prior=True))])\n",
    "\n",
    "clf2.fit(X_train, y_train)\n",
    "\n",
    "y_pred_NB = clf2.predict(X_test)\n",
    "\n",
    "clf2_score = cross_validation_pip(X_train, y_train, clf2, num_split = 3)"
   ],
   "metadata": {
    "id": "P9wnpx1sKPwt",
    "pycharm": {
     "is_executing": true
    }
   },
   "execution_count": null,
   "outputs": []
  },
  {
   "cell_type": "code",
   "source": [
    "# from sklearn.metrics import classification_report\n",
    "\n",
    "\n",
    "# clf2_class_report = classification_report(y_test, y_pred, output_dict= True)"
   ],
   "metadata": {
    "id": "xSBV_rZCeRAY",
    "pycharm": {
     "is_executing": true
    }
   },
   "execution_count": null,
   "outputs": []
  },
  {
   "cell_type": "code",
   "source": [
    "# clf2_class_report['weighted avg']"
   ],
   "metadata": {
    "id": "-aMcp054fwKD",
    "pycharm": {
     "is_executing": true
    }
   },
   "execution_count": null,
   "outputs": []
  },
  {
   "cell_type": "code",
   "source": [
    "plot_confusion_matrix(clf2, X_test, y_test)"
   ],
   "metadata": {
    "colab": {
     "base_uri": "https://localhost:8080/"
    },
    "id": "ymBGSYbwg1mL",
    "outputId": "a94aaf4b-ab00-4662-c426-3635bf4b13ac",
    "pycharm": {
     "is_executing": true
    }
   },
   "execution_count": null,
   "outputs": []
  },
  {
   "cell_type": "code",
   "source": [
    "from sklearn.svm import LinearSVC\n",
    "\n",
    "clf3  = Pipeline(steps=[\n",
    "        ('normalize', TextPreprocessor(n_jobs=-1)), \n",
    "        ('features', TfidfVectorizer(ngram_range=(1, 2), sublinear_tf=True)),\n",
    "        ('classifier', LinearSVC(random_state=0, tol=1e-5) )] )\n",
    "\n",
    "clf3.fit(X_train, y_train)\n",
    "\n",
    "y_pred_SVM = clf3.predict(X_test)\n",
    "\n",
    "clf3_score = cross_validation_pip(X_train, y_train, clf3, num_split = 3)"
   ],
   "metadata": {
    "colab": {
     "base_uri": "https://localhost:8080/",
     "height": 235
    },
    "id": "RRfrj-7hpJgU",
    "outputId": "2b5469df-aeef-4562-c920-226cbca4ff3c",
    "pycharm": {
     "is_executing": true
    }
   },
   "execution_count": null,
   "outputs": []
  },
  {
   "cell_type": "code",
   "source": [
    "plot_confusion_matrix(clf3, X_test, y_test)"
   ],
   "metadata": {
    "id": "u8b-iHkNqLU-",
    "pycharm": {
     "is_executing": true
    }
   },
   "execution_count": null,
   "outputs": []
  },
  {
   "cell_type": "code",
   "source": [
    "print(f\"Logisitc Regression accuracy score {clf1_score} \\nMultiNomialNB accuracy score {clf2_score} \\nSVM score is {clf3_score}\")"
   ],
   "metadata": {
    "id": "k1xESsrqy6Ky",
    "pycharm": {
     "is_executing": true
    }
   },
   "execution_count": null,
   "outputs": []
  }
 ]
}
