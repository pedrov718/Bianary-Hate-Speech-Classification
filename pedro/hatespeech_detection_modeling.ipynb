{
  "nbformat": 4,
  "nbformat_minor": 0,
  "metadata": {
    "colab": {
      "provenance": [],
      "collapsed_sections": []
    },
    "kernelspec": {
      "name": "python3",
      "display_name": "Python 3"
    },
    "language_info": {
      "name": "python"
    }
  },
  "cells": [
    {
      "cell_type": "markdown",
      "source": [
        "## Importing our cleaned dataset from our EDA notebook"
      ],
      "metadata": {
        "id": "7dkSWjzOpOET"
      }
    },
    {
      "cell_type": "code",
      "execution_count": 6,
      "metadata": {
        "id": "QOV0t39UpPxQ"
      },
      "outputs": [],
      "source": [
        "import pandas as pd\n",
        "df = pd.read_csv(\"/content/drive/MyDrive/hatespeech_detection/binary_hatespeech_cleaned.csv\")"
      ]
    },
    {
      "cell_type": "code",
      "source": [
        "# importing necessary modeling packages\n",
        "from sklearn.svm import LinearSVC\n",
        "from sklearn.linear_model import LogisticRegression\n",
        "from sklearn.metrics import make_scorer, accuracy_score, f1_score, classification_report, plot_confusion_matrix, plot_roc_curve, roc_auc_score, recall_score\n",
        "from sklearn.feature_extraction.text import TfidfVectorizer\n",
        "from sklearn.pipeline import Pipeline\n",
        "from sklearn.model_selection import train_test_split\n",
        "from sklearn.naive_bayes import MultinomialNB\n",
        "from sklearn.metrics.pairwise import normalize\n",
        "from sklearn.model_selection import KFold\n",
        "from sklearn.model_selection import GridSearchCV, RandomizedSearchCV\n",
        "import numpy as np\n",
        "import matplotlib.pyplot as plt\n",
        "import pickle\n",
        "import joblib\n",
        "from xgboost import XGBClassifier\n",
        "import xgboost as xgb\n",
        "from xgboost import XGBRegressor\n",
        "from xgboost import XGBClassifier\n",
        "!pip install datasets\n",
        "import datasets\n",
        "import seaborn as sns\n",
        "import nltk\n",
        "nltk.download('punkt')"
      ],
      "metadata": {
        "id": "KZn-J_C-GRwH",
        "colab": {
          "base_uri": "https://localhost:8080/"
        },
        "outputId": "96f1e141-9a69-49d0-b333-990b10726734"
      },
      "execution_count": null,
      "outputs": [
        {
          "output_type": "stream",
          "name": "stdout",
          "text": [
            "Looking in indexes: https://pypi.org/simple, https://us-python.pkg.dev/colab-wheels/public/simple/\n",
            "Requirement already satisfied: datasets in /usr/local/lib/python3.7/dist-packages (2.5.2)\n",
            "Requirement already satisfied: dill<0.3.6 in /usr/local/lib/python3.7/dist-packages (from datasets) (0.3.5.1)\n",
            "Requirement already satisfied: importlib-metadata in /usr/local/lib/python3.7/dist-packages (from datasets) (5.0.0)\n",
            "Requirement already satisfied: pyarrow>=6.0.0 in /usr/local/lib/python3.7/dist-packages (from datasets) (6.0.1)\n",
            "Requirement already satisfied: requests>=2.19.0 in /usr/local/lib/python3.7/dist-packages (from datasets) (2.23.0)\n",
            "Requirement already satisfied: multiprocess in /usr/local/lib/python3.7/dist-packages (from datasets) (0.70.13)\n",
            "Requirement already satisfied: aiohttp in /usr/local/lib/python3.7/dist-packages (from datasets) (3.8.3)\n",
            "Requirement already satisfied: packaging in /usr/local/lib/python3.7/dist-packages (from datasets) (21.3)\n",
            "Requirement already satisfied: numpy>=1.17 in /usr/local/lib/python3.7/dist-packages (from datasets) (1.21.6)\n",
            "Requirement already satisfied: tqdm>=4.62.1 in /usr/local/lib/python3.7/dist-packages (from datasets) (4.64.1)\n",
            "Requirement already satisfied: fsspec[http]>=2021.11.1 in /usr/local/lib/python3.7/dist-packages (from datasets) (2022.8.2)\n",
            "Requirement already satisfied: responses<0.19 in /usr/local/lib/python3.7/dist-packages (from datasets) (0.18.0)\n",
            "Requirement already satisfied: huggingface-hub<1.0.0,>=0.2.0 in /usr/local/lib/python3.7/dist-packages (from datasets) (0.10.0)\n",
            "Requirement already satisfied: xxhash in /usr/local/lib/python3.7/dist-packages (from datasets) (3.0.0)\n",
            "Requirement already satisfied: pandas in /usr/local/lib/python3.7/dist-packages (from datasets) (1.3.5)\n",
            "Requirement already satisfied: attrs>=17.3.0 in /usr/local/lib/python3.7/dist-packages (from aiohttp->datasets) (22.1.0)\n",
            "Requirement already satisfied: asynctest==0.13.0 in /usr/local/lib/python3.7/dist-packages (from aiohttp->datasets) (0.13.0)\n",
            "Requirement already satisfied: frozenlist>=1.1.1 in /usr/local/lib/python3.7/dist-packages (from aiohttp->datasets) (1.3.1)\n",
            "Requirement already satisfied: aiosignal>=1.1.2 in /usr/local/lib/python3.7/dist-packages (from aiohttp->datasets) (1.2.0)\n",
            "Requirement already satisfied: async-timeout<5.0,>=4.0.0a3 in /usr/local/lib/python3.7/dist-packages (from aiohttp->datasets) (4.0.2)\n",
            "Requirement already satisfied: multidict<7.0,>=4.5 in /usr/local/lib/python3.7/dist-packages (from aiohttp->datasets) (6.0.2)\n",
            "Requirement already satisfied: typing-extensions>=3.7.4 in /usr/local/lib/python3.7/dist-packages (from aiohttp->datasets) (4.1.1)\n",
            "Requirement already satisfied: charset-normalizer<3.0,>=2.0 in /usr/local/lib/python3.7/dist-packages (from aiohttp->datasets) (2.1.1)\n",
            "Requirement already satisfied: yarl<2.0,>=1.0 in /usr/local/lib/python3.7/dist-packages (from aiohttp->datasets) (1.8.1)\n",
            "Requirement already satisfied: pyyaml>=5.1 in /usr/local/lib/python3.7/dist-packages (from huggingface-hub<1.0.0,>=0.2.0->datasets) (6.0)\n",
            "Requirement already satisfied: filelock in /usr/local/lib/python3.7/dist-packages (from huggingface-hub<1.0.0,>=0.2.0->datasets) (3.8.0)\n",
            "Requirement already satisfied: pyparsing!=3.0.5,>=2.0.2 in /usr/local/lib/python3.7/dist-packages (from packaging->datasets) (3.0.9)\n",
            "Requirement already satisfied: chardet<4,>=3.0.2 in /usr/local/lib/python3.7/dist-packages (from requests>=2.19.0->datasets) (3.0.4)\n",
            "Requirement already satisfied: certifi>=2017.4.17 in /usr/local/lib/python3.7/dist-packages (from requests>=2.19.0->datasets) (2022.9.24)\n",
            "Requirement already satisfied: urllib3!=1.25.0,!=1.25.1,<1.26,>=1.21.1 in /usr/local/lib/python3.7/dist-packages (from requests>=2.19.0->datasets) (1.25.11)\n",
            "Requirement already satisfied: idna<3,>=2.5 in /usr/local/lib/python3.7/dist-packages (from requests>=2.19.0->datasets) (2.10)\n",
            "Requirement already satisfied: zipp>=0.5 in /usr/local/lib/python3.7/dist-packages (from importlib-metadata->datasets) (3.8.1)\n",
            "Requirement already satisfied: pytz>=2017.3 in /usr/local/lib/python3.7/dist-packages (from pandas->datasets) (2022.4)\n",
            "Requirement already satisfied: python-dateutil>=2.7.3 in /usr/local/lib/python3.7/dist-packages (from pandas->datasets) (2.8.2)\n",
            "Requirement already satisfied: six>=1.5 in /usr/local/lib/python3.7/dist-packages (from python-dateutil>=2.7.3->pandas->datasets) (1.15.0)\n"
          ]
        }
      ]
    },
    {
      "cell_type": "markdown",
      "source": [
        "## Lets define a custom crossvalidation function that we can use with our pipeline object."
      ],
      "metadata": {
        "id": "j4chHCYrvCLG"
      }
    },
    {
      "cell_type": "code",
      "source": [
        "def cross_validation_pip(X_train, y_train, estimator, num_split = 5):\n",
        "  \n",
        "  kf = KFold(n_splits= num_split)\n",
        "\n",
        "  kf.get_n_splits(X_train)\n",
        "  \n",
        "  score_val_list = []\n",
        "  score_train_list = []\n",
        "  \n",
        "  for train_index, test_index in kf.split(X):\n",
        "      # print(\"TRAIN:\", train_index, \"TEST:\", test_index)\n",
        "      X_train, X_test = X[train_index], X[test_index]\n",
        "      y_train, y_test = y[train_index], y[test_index]\n",
        "      estimator.fit(X_train, y_train)\n",
        "      y_pred_train = estimator.predict(X_train)\n",
        "      y_pred_test = estimator.predict(X_test)\n",
        "\n",
        "      #recall_score(y_test, y_pred_best)\n",
        "      # now how did we do?\n",
        "      recall_train = recall_score(y_train, y_pred_train)\n",
        "      recall_val = recall_score(y_test, y_pred_test)\n",
        "      score_val_list.append(recall_val)\n",
        "      score_train_list.append(recall_train)\n",
        "    \n",
        "  return {'train': np.mean(score_train_list), 'validation': np.mean(score_val_list)}"
      ],
      "metadata": {
        "id": "MJ1lXTBLvA06"
      },
      "execution_count": null,
      "outputs": []
    },
    {
      "cell_type": "markdown",
      "source": [
        "## Our baseline model will be a simple logistic regression model"
      ],
      "metadata": {
        "id": "MDmERGoto-XJ"
      }
    },
    {
      "cell_type": "code",
      "source": [
        "X = df['text_from_lemma'] # will be using our cleaned lemmatized words\n",
        "y = df['hatespeech'] # we will be doing a simple binary classifier\n",
        "\n",
        "X_train, X_test, y_train, y_test = train_test_split(X, y, random_state= 42, test_size= .3, stratify= y) # spliting our data and stratafying on y"
      ],
      "metadata": {
        "id": "s6W6c21xF5bF"
      },
      "execution_count": null,
      "outputs": []
    },
    {
      "cell_type": "code",
      "source": [
        "logistic = Pipeline(steps=[ \n",
        "        ('features', TfidfVectorizer(ngram_range=(1, 2), sublinear_tf=True)),\n",
        "        ('classifier', LogisticRegression(solver='saga', n_jobs=-1))\n",
        "    ])\n",
        "\n",
        "logistic.fit(X_train, y_train)\n",
        "\n",
        "y_pred_log = logistic.predict(X_test)\n",
        "\n",
        "y_pred_log_proba = logistic.predict_proba(X_test)\n",
        "\n",
        "logistic_score = cross_validation_pip(X_train, y_train, logistic, num_split = 3)"
      ],
      "metadata": {
        "id": "2qQ1HFsYobAF"
      },
      "execution_count": 10,
      "outputs": []
    },
    {
      "cell_type": "code",
      "source": [
        "print(classification_report(y_test, y_pred_log))"
      ],
      "metadata": {
        "colab": {
          "base_uri": "https://localhost:8080/"
        },
        "id": "sUihcIdL0ba3",
        "outputId": "5043f9b3-f565-44a3-e963-cb0aea7fb135"
      },
      "execution_count": 11,
      "outputs": [
        {
          "output_type": "stream",
          "name": "stdout",
          "text": [
            "              precision    recall  f1-score   support\n",
            "\n",
            "           0       0.81      0.88      0.84     24187\n",
            "           1       0.80      0.70      0.75     16480\n",
            "\n",
            "    accuracy                           0.81     40667\n",
            "   macro avg       0.81      0.79      0.79     40667\n",
            "weighted avg       0.81      0.81      0.80     40667\n",
            "\n"
          ]
        }
      ]
    },
    {
      "cell_type": "code",
      "source": [
        "plot_confusion_matrix(logistic, X_test, y_test)"
      ],
      "metadata": {
        "colab": {
          "base_uri": "https://localhost:8080/",
          "height": 351
        },
        "id": "5W0Nemdr0d13",
        "outputId": "66e6d2d8-881e-4719-eff2-7082762ac92e"
      },
      "execution_count": 12,
      "outputs": [
        {
          "output_type": "stream",
          "name": "stderr",
          "text": [
            "/usr/local/lib/python3.7/dist-packages/sklearn/utils/deprecation.py:87: FutureWarning: Function plot_confusion_matrix is deprecated; Function `plot_confusion_matrix` is deprecated in 1.0 and will be removed in 1.2. Use one of the class methods: ConfusionMatrixDisplay.from_predictions or ConfusionMatrixDisplay.from_estimator.\n",
            "  warnings.warn(msg, category=FutureWarning)\n"
          ]
        },
        {
          "output_type": "execute_result",
          "data": {
            "text/plain": [
              "<sklearn.metrics._plot.confusion_matrix.ConfusionMatrixDisplay at 0x7f78dcfbd650>"
            ]
          },
          "metadata": {},
          "execution_count": 12
        },
        {
          "output_type": "display_data",
          "data": {
            "text/plain": [
              "<Figure size 432x288 with 2 Axes>"
            ],
            "image/png": "[encoded data removed]"
          },
          "metadata": {
            "needs_background": "light"
          }
        }
      ]
    },
    {
      "cell_type": "code",
      "source": [
        "# search thresholds for imbalanced classification\n",
        "from numpy import arange\n",
        "from numpy import argmax\n",
        " \n",
        "# apply threshold to positive probabilities to create labels\n",
        "def to_labels(pos_probs, threshold):\n",
        "\treturn (pos_probs >= threshold).astype('int')\n",
        "\n",
        "# keep probabilities for the positive outcome only\n",
        "probs = y_pred_log_proba[:, 1]\n",
        "\n",
        "# define thresholds\n",
        "thresholds = arange(0, 1, 0.001)\n",
        "\n",
        "# evaluate each threshold\n",
        "scores = [f1_score(y_test, to_labels(probs, t)) for t in thresholds]\n",
        "\n",
        "# get best threshold\n",
        "ix = argmax(scores)\n",
        "print('Threshold=%.3f, F-Score=%.5f' % (thresholds[ix], scores[ix]))"
      ],
      "metadata": {
        "id": "KgdErNUbAdVb"
      },
      "execution_count": null,
      "outputs": []
    },
    {
      "cell_type": "code",
      "source": [
        "filename = 'logistic_model.sav'\n",
        "pickle.dump(logistic, open(filename, 'wb'))"
      ],
      "metadata": {
        "id": "FjpmTdJU0sK2"
      },
      "execution_count": null,
      "outputs": []
    },
    {
      "cell_type": "markdown",
      "source": [
        "## Running a linear SVM model on our cleaned corpus\n"
      ],
      "metadata": {
        "id": "TihWrBiQGIul"
      }
    },
    {
      "cell_type": "code",
      "source": [
        "# defining parameter range\n",
        "param_grid = {'classifier__C': [0.01, 0.1, 1, 10, 100, 1000],\n",
        "              'classifier__tol': [1e-5, 1e-4, 1e-2, 1, 1e3],\n",
        "              'vectorizer__max_df': (0.25, 0.5, 0.75),\n",
        "              'vectorizer__ngram_range': [(1, 1), (1, 2), (1, 3)],\n",
        "              'vectorizer__norm' : ('l1', 'l2'),\n",
        "              'vectorizer__sublinear_tf' : (True, False)\n",
        "              } "
      ],
      "metadata": {
        "id": "jmF_nFBwx2nM"
      },
      "execution_count": null,
      "outputs": []
    },
    {
      "cell_type": "code",
      "source": [
        "# define a pipeline for our best model: if you are interested to see how I got here please look at my preliminary notebook\n",
        "# https://colab.research.google.com/drive/1-IVjUg7nxMCUqeanlInnXHqNn14wAWjS?usp=sharing\n",
        "\n",
        "pipe  = Pipeline(steps=[\n",
        "    ('vectorizer', TfidfVectorizer()),\n",
        "    ('classifier', LinearSVC(max_iter=10000, random_state=42))\n",
        "    ]) "
      ],
      "metadata": {
        "id": "HCgt-Vd8sB47"
      },
      "execution_count": null,
      "outputs": []
    },
    {
      "cell_type": "code",
      "source": [
        "gs_pipe = RandomizedSearchCV(pipe, param_grid, n_iter=5, scoring= 'recall', n_jobs= -1, refit=True, random_state=42, return_train_score=True)\n",
        "\n",
        "gs_pipe.fit(X_train, y_train)\n",
        "\n",
        "best_est = gs_pipe.best_estimator_"
      ],
      "metadata": {
        "collapsed": true,
        "id": "E8GS8NZKy8rV"
      },
      "execution_count": null,
      "outputs": []
    },
    {
      "cell_type": "code",
      "source": [
        "best_est.fit(X_train, y_train)\n",
        "\n",
        "y_pred_best= best_est.predict(X_test)\n",
        "\n",
        "y_proba =  best_est.decision_function(X_test)\n",
        "\n",
        "best_est_score = best_est.score(X_test, y_test)"
      ],
      "metadata": {
        "id": "Y8-TfTCbGBDG"
      },
      "execution_count": null,
      "outputs": []
    },
    {
      "cell_type": "code",
      "source": [
        "cross_validation_pip(X_test, y_test, best_est, num_split = 5)"
      ],
      "metadata": {
        "id": "o1dSY7eVvQWT"
      },
      "execution_count": null,
      "outputs": []
    },
    {
      "cell_type": "code",
      "source": [
        "print(f\"Accuracy score for the model cleaned by this function with grid search parameter-tuning is {best_est_score}\")"
      ],
      "metadata": {
        "id": "CL1mgRE1R7sW"
      },
      "execution_count": null,
      "outputs": []
    },
    {
      "cell_type": "code",
      "source": [
        "plot_confusion_matrix(best_est, X_test, y_test)"
      ],
      "metadata": {
        "id": "5BEVODboR_Lp"
      },
      "execution_count": null,
      "outputs": []
    },
    {
      "cell_type": "code",
      "source": [
        "print(f\"The Recall Score for the linearSVC is: {recall_score(y_test, y_pred_best)}\")"
      ],
      "metadata": {
        "id": "OgkYl1j24PtV"
      },
      "execution_count": null,
      "outputs": []
    },
    {
      "cell_type": "code",
      "source": [
        "print(classification_report(y_test, y_pred_best))"
      ],
      "metadata": {
        "id": "Rj0n9D6vR_md"
      },
      "execution_count": null,
      "outputs": []
    },
    {
      "cell_type": "markdown",
      "source": [
        "## Now its time to finetune our decision threshold for our linear SVM model"
      ],
      "metadata": {
        "id": "f87MuUjeB_oB"
      }
    },
    {
      "cell_type": "code",
      "source": [
        "from sklearn.metrics import precision_recall_curve\n",
        "\n",
        "precision, recall, thresholds = precision_recall_curve(y_test, y_proba)\n",
        "\n",
        "#create precision recall curve\n",
        "fig, ax = plt.subplots()\n",
        "ax.plot(recall, precision, color='purple')\n",
        "\n",
        "#add axis labels to plot\n",
        "ax.set_title('Precision-Recall Curve')\n",
        "ax.set_ylabel('Precision')\n",
        "ax.set_xlabel('Recall')\n",
        "\n",
        "#display plot\n",
        "plt.show()"
      ],
      "metadata": {
        "id": "rhUV8Me78GmE"
      },
      "execution_count": null,
      "outputs": []
    },
    {
      "cell_type": "code",
      "source": [
        "# keep probabilities for the positive outcome only\n",
        "probs = y_proba\n",
        "\n",
        "# define thresholds\n",
        "thresholds = arange(0, 1, 0.001)\n",
        "\n",
        "# evaluate each threshold\n",
        "scores = [f1_score(y_test, to_labels(probs, t)) for t in thresholds]\n",
        "\n",
        "# get best threshold\n",
        "ix = argmax(scores)\n",
        "print('Threshold=%.3f, F-Score=%.5f' % (thresholds[ix], scores[ix]))"
      ],
      "metadata": {
        "id": "bmxKAq3wCIJt"
      },
      "execution_count": null,
      "outputs": []
    },
    {
      "cell_type": "code",
      "source": [
        "plot_roc_curve(best_est, X_test, y_test)"
      ],
      "metadata": {
        "id": "mkaMyTMOSFAg"
      },
      "execution_count": null,
      "outputs": []
    },
    {
      "cell_type": "code",
      "source": [
        "roc_auc_score(y_test, y_proba)"
      ],
      "metadata": {
        "id": "RrvcbRnlSFYv"
      },
      "execution_count": null,
      "outputs": []
    },
    {
      "cell_type": "code",
      "source": [
        "best_est['classifier'].coef_,"
      ],
      "metadata": {
        "id": "MRgk4Rlz1_EP"
      },
      "execution_count": null,
      "outputs": []
    },
    {
      "cell_type": "code",
      "source": [
        "def plot_coefficients(classifier, feature_names, top_features=20):\n",
        " coef = classifier.coef_.ravel()\n",
        " top_positive_coefficients = np.argsort(coef)[-top_features:]\n",
        " top_negative_coefficients = np.argsort(coef)[:top_features]\n",
        " top_coefficients = np.hstack([top_negative_coefficients, top_positive_coefficients])\n",
        "\n",
        " # create plot\n",
        "\n",
        " fig, ax = plt.subplots(1, 1, figsize=(20, 15))\n",
        "\n",
        " ax.set_facecolor('black') \n",
        "\n",
        "# ax.yaxis.grid(True, which='major')\n",
        " ax.yaxis.grid(True, which='major', linestyle='-')\n",
        " ax.xaxis.grid(True, linestyle='dashed')\n",
        "\n",
        " ax.set_yticklabels(ax.get_yticklabels(), rotation=0, fontsize=20)\n",
        " \n",
        " ax.tick_params(axis='x', which='major', labelsize=20)\n",
        "\n",
        " colors = ['red' if c < 0 else 'blue' for c in coef[top_coefficients]]\n",
        " \n",
        " plt.barh(np.arange(2 * top_features), coef[top_coefficients], color=colors,align = 'edge' )\n",
        "\n",
        " feature_names = np.array(feature_names)\n",
        "\n",
        " plt.yticks(np.arange(1, 1 + 2 * top_features), feature_names[top_coefficients], rotation=0, ha= 'right')\n",
        "\n",
        "\n",
        " plt.title(\"Highest Weighted Words for Hate Speech Classification\", fontsize=30) \n",
        "\n",
        " plt.show()\n",
        "\n",
        "cv = best_est['vectorizer']\n",
        "\n",
        "svm = best_est['classifier']\n",
        "\n",
        "plot_coefficients(svm, cv.get_feature_names())"
      ],
      "metadata": {
        "id": "QNJnwZyU1oSf"
      },
      "execution_count": null,
      "outputs": []
    },
    {
      "cell_type": "code",
      "source": [
        "# Get the names of each feature\n",
        "feature_names = best_est.named_steps[\"vectorizer\"].get_feature_names()"
      ],
      "metadata": {
        "id": "6S87M_io_6Ig"
      },
      "execution_count": null,
      "outputs": []
    },
    {
      "cell_type": "code",
      "source": [
        "# Get the coefficients of each feature\n",
        "coefs = best_est.named_steps[\"classifier\"].coef_.flatten()"
      ],
      "metadata": {
        "id": "6tzOnrEA_4Jn"
      },
      "execution_count": null,
      "outputs": []
    },
    {
      "cell_type": "code",
      "source": [
        "\n",
        "# Zip coefficients and names together and make a DataFrame\n",
        "zipped = zip(feature_names, coefs)\n",
        "\n",
        "df_coefs = pd.DataFrame(zipped, columns=[\"feature\", \"value\"])\n",
        "\n",
        "# Sort the features by the absolute value of their coefficient\n",
        "df_coefs[\"abs_value\"] = df_coefs[\"value\"].apply(lambda x: abs(x))\n",
        "\n",
        "df_coefs[\"colors\"] = df_coefs[\"value\"].apply(lambda x: \"yellow\" if x > 0 else \"red\")\n",
        "\n",
        "df_coefs = df_coefs.sort_values(\"abs_value\", ascending=False)"
      ],
      "metadata": {
        "id": "leSe2X5D_pjw"
      },
      "execution_count": null,
      "outputs": []
    },
    {
      "cell_type": "code",
      "source": [
        "fig, ax = plt.subplots(1, 1, figsize=(10, 5))\n",
        "\n",
        "sns.barplot(y =\"feature\",\n",
        "            x =\"value\",\n",
        "            data=df_coefs.head(20),\n",
        "           palette=df_coefs.head(20)[\"colors\"])\n",
        "\n",
        "\n",
        "ax.set_facecolor('black') \n",
        "\n",
        "# ax.yaxis.grid(True, which='major')\n",
        "ax.xaxis.grid(True, which='major')\n",
        "\n",
        "ax.set_yticklabels(ax.get_yticklabels(), rotation=0, fontsize=20)\n",
        "\n",
        "ax.set_title(\"Top 20 Indicators for Hate speech\", fontsize=30)\n",
        "ax.set_ylabel(\"Feature Names\", fontsize=22)\n",
        "ax.set_xlabel(\"Feature Importance\", fontsize=22)"
      ],
      "metadata": {
        "id": "FRqWeXi1_2Qb"
      },
      "execution_count": null,
      "outputs": []
    },
    {
      "cell_type": "code",
      "source": [
        "import pickle\n",
        "\n",
        "filename = 'linearSVC_model_best.sav'\n",
        "pickle.dump(best_est, open(filename, 'wb'))"
      ],
      "metadata": {
        "id": "X1uutsqgXbJH"
      },
      "execution_count": null,
      "outputs": []
    },
    {
      "cell_type": "markdown",
      "source": [
        "## Now that we have a finetuned model, lets try visualizing the errors our model is making and see if we can learn anything from the models mistakes"
      ],
      "metadata": {
        "id": "PurLj2JEyEdf"
      }
    },
    {
      "cell_type": "code",
      "source": [
        "input = X\n",
        "prediction = y_pred_best\n",
        "label = y\n",
        "wrong_predicitons = {}\n",
        "\n",
        "for input, prediction, label in zip(input, prediction, label):\n",
        "  if prediction != label:\n",
        "    wrong_predicitons[input] = [prediction, label]\n",
        "\n",
        "predicitons = pd.DataFrame.from_dict(wrong_predicitons, orient='index',\n",
        "  columns=['text', 'prediciton/true_label'] )\n"
      ],
      "metadata": {
        "id": "4-c6kPmUyCd8"
      },
      "execution_count": null,
      "outputs": []
    },
    {
      "cell_type": "markdown",
      "source": [
        "## Lets try a tree based model: XGBoost has good results with text classification."
      ],
      "metadata": {
        "id": "MC_xcqxQ1yPO"
      }
    },
    {
      "cell_type": "code",
      "source": [
        "X = df['text_from_lemma'] # will be using our cleaned lemmatized words\n",
        "\n",
        "y = df['hatespeech'] # we will be doing a simple binary classifier\n",
        "\n",
        "\n",
        "X_train, X_test, y_train, y_test = train_test_split(X, y, random_state= 42, test_size= .3, stratify= y) # spliting our data and stratafying on y\n",
        "\n",
        "\n",
        "# fit model no training data\n",
        "\n",
        "pipe_boost = Pipeline(steps=[\n",
        "    ('vectorizer', TfidfVectorizer(ngram_range = (1, 2))),\n",
        "    ('classifier', XGBClassifier())]) \n",
        "\n",
        "\n",
        "\n",
        "pipe_boost.fit(X_train, y_train)\n",
        "\n",
        "# make predictions for test data\n",
        "\n",
        "y_pred_boost = pipe_boost.predict(X_test)\n",
        "\n",
        "# evaluate predictions\n",
        "\n",
        "print(classification_report(y_test, y_pred_boost))"
      ],
      "metadata": {
        "id": "HYr9cMAk2BsK"
      },
      "execution_count": null,
      "outputs": []
    },
    {
      "cell_type": "markdown",
      "source": [
        "## Lets try doing some hyper parameter tuning for our xgboost model"
      ],
      "metadata": {
        "id": "jMekbyVJFf5d"
      }
    },
    {
      "cell_type": "code",
      "source": [
        "params = {'classifier__max_depth': [3,4, 5], 'classifier__learning_rate': [.1, .3, .5],\n",
        "          'classifier__gamma': [0,5,10], 'classifier__n_estimators': [50,100, 150] }\n",
        "\n",
        "\n",
        "boost = RandomizedSearchCV(pipe_boost, params, n_iter=5, scoring= 'recall', n_jobs= -1, refit=True, random_state=42, return_train_score=True)\n",
        "\n",
        "boost.fit(X_train, y_train)"
      ],
      "metadata": {
        "id": "1uvZYL0fSElL"
      },
      "execution_count": null,
      "outputs": []
    },
    {
      "cell_type": "code",
      "source": [
        "best_boost = boost.best_estimator_\n",
        "\n",
        "best_boost.fit(X_train, y_train);\n",
        "\n",
        "y_pred = best_boost.predict(X_test)\n",
        "\n",
        "total_preds = best_boost.predict(X_train)"
      ],
      "metadata": {
        "id": "w6Jmy4vVSgY8"
      },
      "execution_count": null,
      "outputs": []
    },
    {
      "cell_type": "code",
      "source": [
        "plot_confusion_matrix(best_boost, X_test, y_test)"
      ],
      "metadata": {
        "id": "EmGZyzwfz5m1"
      },
      "execution_count": null,
      "outputs": []
    },
    {
      "cell_type": "code",
      "source": [
        "print(classification_report(y_test, y_pred))"
      ],
      "metadata": {
        "id": "rHXFohli0MUp"
      },
      "execution_count": null,
      "outputs": []
    },
    {
      "cell_type": "markdown",
      "source": [
        "## Importing original datasets to append predicition column to"
      ],
      "metadata": {
        "id": "UMi6xnRoMjLi"
      }
    },
    {
      "cell_type": "code",
      "source": [
        "filename = 'xgboost_model_best.sav'\n",
        "pickle.dump(best_boost, open(filename, 'wb'))"
      ],
      "metadata": {
        "id": "3h2eemS6pjSj"
      },
      "execution_count": null,
      "outputs": []
    },
    {
      "cell_type": "code",
      "source": [
        "import datasets\n",
        "dataset = datasets.load_dataset('ucberkeley-dlab/measuring-hate-speech', 'binary')\n",
        "new_df = dataset['train'].to_pandas()"
      ],
      "metadata": {
        "id": "ypMVysO-K7Ei"
      },
      "execution_count": null,
      "outputs": []
    },
    {
      "cell_type": "markdown",
      "source": [
        "## Creating a predicition column for our corpus"
      ],
      "metadata": {
        "id": "Lo8o4sEVK7jV"
      }
    },
    {
      "cell_type": "code",
      "source": [
        "new_df.shape"
      ],
      "metadata": {
        "id": "q2WsQQTXKdS0"
      },
      "execution_count": null,
      "outputs": []
    },
    {
      "cell_type": "code",
      "source": [
        "new_df['hatespeech'] = (new_df['hatespeech']).apply(lambda x: 1 if x > 0 else 0)"
      ],
      "metadata": {
        "id": "TrqQhYkBKrlC"
      },
      "execution_count": null,
      "outputs": []
    },
    {
      "cell_type": "code",
      "source": [
        "loaded_model = joblib.load('/content/linearSVC_model_best.sav')"
      ],
      "metadata": {
        "id": "ziJHIlQEIUEv"
      },
      "execution_count": null,
      "outputs": []
    },
    {
      "cell_type": "code",
      "source": [
        "x = new_df[['text']]\n",
        "\n",
        "y = new_df['hatespeech']"
      ],
      "metadata": {
        "id": "1_KGHgkXJxiP"
      },
      "execution_count": null,
      "outputs": []
    },
    {
      "cell_type": "code",
      "source": [
        "predicted_score = loaded_model.predict(X)"
      ],
      "metadata": {
        "id": "RBO1kSGgJn65"
      },
      "execution_count": null,
      "outputs": []
    },
    {
      "cell_type": "code",
      "source": [
        "predicted_score.shape"
      ],
      "metadata": {
        "id": "ytruU8H9KJ3i"
      },
      "execution_count": null,
      "outputs": []
    },
    {
      "cell_type": "code",
      "source": [
        "new_df['predicitions'] = predicted_score"
      ],
      "metadata": {
        "id": "8ls2BFGYKSyr"
      },
      "execution_count": null,
      "outputs": []
    },
    {
      "cell_type": "code",
      "source": [
        "new_df[['text', 'hatespeech', 'predicitions']]"
      ],
      "metadata": {
        "id": "uTGRAbPtLsRl"
      },
      "execution_count": null,
      "outputs": []
    },
    {
      "cell_type": "markdown",
      "source": [
        "## Creating a profanity list to check how much profanity is in our hatespeech lablled corpus"
      ],
      "metadata": {
        "id": "PjCKK1gkhQKG"
      }
    },
    {
      "cell_type": "code",
      "source": [
        "\n",
        "# opening the file in read mode\n",
        "my_file = open(\"/content/profanity_wordlist.txt\", \"r\")\n",
        "  \n",
        "# reading the file\n",
        "data = my_file.read()\n",
        "  \n",
        "# replacing end of line('/n') with ' ' and\n",
        "# splitting the text it further when '.' is seen.\n",
        "data_into_list = data.replace('\\n', ',').split(\".\")\n",
        "\n",
        "# printing the data\n",
        "print(data_into_list)\n",
        "my_file.close()"
      ],
      "metadata": {
        "id": "C1LpwyBoy5Oi"
      },
      "execution_count": null,
      "outputs": []
    },
    {
      "cell_type": "code",
      "source": [
        "profanity_list = data_into_list[0].split(',') "
      ],
      "metadata": {
        "id": "kYosq7coz0zI"
      },
      "execution_count": null,
      "outputs": []
    },
    {
      "cell_type": "code",
      "source": [
        "import re\n",
        "def pattern_searcher(search_str:str, search_list:str):\n",
        "\n",
        "    search_obj = re.search(search_list, search_str)\n",
        "\n",
        "    if search_obj :\n",
        "        return_str = search_str[search_obj.start(): search_obj.end()]\n",
        "    else:\n",
        "        return_str = 'NA'\n",
        "    return return_str"
      ],
      "metadata": {
        "id": "EKPdxeV16TWc"
      },
      "execution_count": null,
      "outputs": []
    },
    {
      "cell_type": "code",
      "source": [
        "pattern = '|'.join(profanity_list)\n",
        "\n",
        "new_df['profanity_present'] = new_df['text'].apply(lambda x: pattern_searcher(search_str=x, search_list=pattern))"
      ],
      "metadata": {
        "id": "wwkYp0Qh6XMc"
      },
      "execution_count": null,
      "outputs": []
    }
  ]
}