{
 "cells": [
  {
   "cell_type": "markdown",
   "source": [
    "## Cleaning twitter data to be used to predict the probability of profanity!"
   ],
   "metadata": {
    "collapsed": false,
    "pycharm": {
     "name": "#%% md\n"
    }
   }
  },
  {
   "cell_type": "code",
   "execution_count": 47,
   "outputs": [],
   "source": [
    "import pandas as pd\n",
    "import numpy as np\n",
    "import seaborn as sns\n",
    "import re\n",
    "import nltk"
   ],
   "metadata": {
    "collapsed": false,
    "pycharm": {
     "name": "#%%\n"
    }
   }
  },
  {
   "cell_type": "code",
   "execution_count": 48,
   "outputs": [],
   "source": [
    "tweets = pd.read_csv(\"..\\Data\\hate-speech-and-offensive-language.csv\", index_col = \"Unnamed: 0\" )"
   ],
   "metadata": {
    "collapsed": false,
    "pycharm": {
     "name": "#%%\n"
    }
   }
  },
  {
   "cell_type": "code",
   "execution_count": 49,
   "outputs": [
    {
     "data": {
      "text/plain": "       count  hate_speech  offensive_language  neither  class  \\\n0          3            0                   0        3      2   \n1          3            0                   3        0      1   \n2          3            0                   3        0      1   \n3          3            0                   2        1      1   \n4          6            0                   6        0      1   \n...      ...          ...                 ...      ...    ...   \n25291      3            0                   2        1      1   \n25292      3            0                   1        2      2   \n25294      3            0                   3        0      1   \n25295      6            0                   6        0      1   \n25296      3            0                   0        3      2   \n\n                                                   tweet  \n0      !!! RT @mayasolovely: As a woman you shouldn't...  \n1      !!!!! RT @mleew17: boy dats cold...tyga dwn ba...  \n2      !!!!!!! RT @UrKindOfBrand Dawg!!!! RT @80sbaby...  \n3      !!!!!!!!! RT @C_G_Anderson: @viva_based she lo...  \n4      !!!!!!!!!!!!! RT @ShenikaRoberts: The shit you...  \n...                                                  ...  \n25291  you's a muthaf***in lie &#8220;@LifeAsKing: @2...  \n25292  you've gone and broke the wrong heart baby, an...  \n25294  young buck wanna eat!!.. dat nigguh like I ain...  \n25295              youu got wild bitches tellin you lies  \n25296  ~~Ruffled | Ntac Eileen Dahlia - Beautiful col...  \n\n[24783 rows x 6 columns]",
      "text/html": "<div>\n<style scoped>\n    .dataframe tbody tr th:only-of-type {\n        vertical-align: middle;\n    }\n\n    .dataframe tbody tr th {\n        vertical-align: top;\n    }\n\n    .dataframe thead th {\n        text-align: right;\n    }\n</style>\n<table border=\"1\" class=\"dataframe\">\n  <thead>\n    <tr style=\"text-align: right;\">\n      <th></th>\n      <th>count</th>\n      <th>hate_speech</th>\n      <th>offensive_language</th>\n      <th>neither</th>\n      <th>class</th>\n      <th>tweet</th>\n    </tr>\n  </thead>\n  <tbody>\n    <tr>\n      <th>0</th>\n      <td>3</td>\n      <td>0</td>\n      <td>0</td>\n      <td>3</td>\n      <td>2</td>\n      <td>!!! RT @mayasolovely: As a woman you shouldn't...</td>\n    </tr>\n    <tr>\n      <th>1</th>\n      <td>3</td>\n      <td>0</td>\n      <td>3</td>\n      <td>0</td>\n      <td>1</td>\n      <td>!!!!! RT @mleew17: boy dats cold...tyga dwn ba...</td>\n    </tr>\n    <tr>\n      <th>2</th>\n      <td>3</td>\n      <td>0</td>\n      <td>3</td>\n      <td>0</td>\n      <td>1</td>\n      <td>!!!!!!! RT @UrKindOfBrand Dawg!!!! RT @80sbaby...</td>\n    </tr>\n    <tr>\n      <th>3</th>\n      <td>3</td>\n      <td>0</td>\n      <td>2</td>\n      <td>1</td>\n      <td>1</td>\n      <td>!!!!!!!!! RT @C_G_Anderson: @viva_based she lo...</td>\n    </tr>\n    <tr>\n      <th>4</th>\n      <td>6</td>\n      <td>0</td>\n      <td>6</td>\n      <td>0</td>\n      <td>1</td>\n      <td>!!!!!!!!!!!!! RT @ShenikaRoberts: The shit you...</td>\n    </tr>\n    <tr>\n      <th>...</th>\n      <td>...</td>\n      <td>...</td>\n      <td>...</td>\n      <td>...</td>\n      <td>...</td>\n      <td>...</td>\n    </tr>\n    <tr>\n      <th>25291</th>\n      <td>3</td>\n      <td>0</td>\n      <td>2</td>\n      <td>1</td>\n      <td>1</td>\n      <td>you's a muthaf***in lie &amp;#8220;@LifeAsKing: @2...</td>\n    </tr>\n    <tr>\n      <th>25292</th>\n      <td>3</td>\n      <td>0</td>\n      <td>1</td>\n      <td>2</td>\n      <td>2</td>\n      <td>you've gone and broke the wrong heart baby, an...</td>\n    </tr>\n    <tr>\n      <th>25294</th>\n      <td>3</td>\n      <td>0</td>\n      <td>3</td>\n      <td>0</td>\n      <td>1</td>\n      <td>young buck wanna eat!!.. dat nigguh like I ain...</td>\n    </tr>\n    <tr>\n      <th>25295</th>\n      <td>6</td>\n      <td>0</td>\n      <td>6</td>\n      <td>0</td>\n      <td>1</td>\n      <td>youu got wild bitches tellin you lies</td>\n    </tr>\n    <tr>\n      <th>25296</th>\n      <td>3</td>\n      <td>0</td>\n      <td>0</td>\n      <td>3</td>\n      <td>2</td>\n      <td>~~Ruffled | Ntac Eileen Dahlia - Beautiful col...</td>\n    </tr>\n  </tbody>\n</table>\n<p>24783 rows × 6 columns</p>\n</div>"
     },
     "execution_count": 49,
     "metadata": {},
     "output_type": "execute_result"
    }
   ],
   "source": [
    "tweets"
   ],
   "metadata": {
    "collapsed": false,
    "pycharm": {
     "name": "#%%\n"
    }
   }
  },
  {
   "cell_type": "code",
   "execution_count": 50,
   "outputs": [],
   "source": [
    "# A list of contractions from http://stackoverflow.com/questions/19790188/expanding-english-language-contractions-in-python\n",
    "contractions = {\n",
    "    \"ain't\": \"am not\",\n",
    "    \"aren't\": \"are not\",\n",
    "    \"can't\": \"cannot\",\n",
    "    \"can't've\": \"cannot have\",\n",
    "    \"'cause\": \"because\",\n",
    "    \"could've\": \"could have\",\n",
    "    \"couldn't\": \"could not\",\n",
    "    \"couldn't've\": \"could not have\",\n",
    "    \"didn't\": \"did not\",\n",
    "    \"doesn't\": \"does not\",\n",
    "    \"don't\": \"do not\",\n",
    "    \"hadn't\": \"had not\",\n",
    "    \"hadn't've\": \"had not have\",\n",
    "    \"hasn't\": \"has not\",\n",
    "    \"haven't\": \"have not\",\n",
    "    \"he'd\": \"he would\",\n",
    "    \"he'd've\": \"he would have\",\n",
    "    \"he'll\": \"he will\",\n",
    "    \"he's\": \"he is\",\n",
    "    \"how'd\": \"how did\",\n",
    "    \"how'll\": \"how will\",\n",
    "    \"how's\": \"how is\",\n",
    "    \"i'd\": \"i would\",\n",
    "    \"i'll\": \"i will\",\n",
    "    \"i'm\": \"i am\",\n",
    "    \"i've\": \"i have\",\n",
    "    \"isn't\": \"is not\",\n",
    "    \"it'd\": \"it would\",\n",
    "    \"it'll\": \"it will\",\n",
    "    \"it's\": \"it is\",\n",
    "    \"let's\": \"let us\",\n",
    "    \"ma'am\": \"madam\",\n",
    "    \"mayn't\": \"may not\",\n",
    "    \"might've\": \"might have\",\n",
    "    \"mightn't\": \"might not\",\n",
    "    \"must've\": \"must have\",\n",
    "    \"mustn't\": \"must not\",\n",
    "    \"needn't\": \"need not\",\n",
    "    \"oughtn't\": \"ought not\",\n",
    "    \"shan't\": \"shall not\",\n",
    "    \"sha'n't\": \"shall not\",\n",
    "    \"she'd\": \"she would\",\n",
    "    \"she'll\": \"she will\",\n",
    "    \"she's\": \"she is\",\n",
    "    \"should've\": \"should have\",\n",
    "    \"shouldn't\": \"should not\",\n",
    "    \"that'd\": \"that would\",\n",
    "    \"that's\": \"that is\",\n",
    "    \"there'd\": \"there had\",\n",
    "    \"there's\": \"there is\",\n",
    "    \"they'd\": \"they would\",\n",
    "    \"they'll\": \"they will\",\n",
    "    \"they're\": \"they are\",\n",
    "    \"they've\": \"they have\",\n",
    "    \"wasn't\": \"was not\",\n",
    "    \"we'd\": \"we would\",\n",
    "    \"we'll\": \"we will\",\n",
    "    \"we're\": \"we are\",\n",
    "    \"we've\": \"we have\",\n",
    "    \"weren't\": \"were not\",\n",
    "    \"what'll\": \"what will\",\n",
    "    \"what're\": \"what are\",\n",
    "    \"what's\": \"what is\",\n",
    "    \"what've\": \"what have\",\n",
    "    \"where'd\": \"where did\",\n",
    "    \"where's\": \"where is\",\n",
    "    \"who'll\": \"who will\",\n",
    "    \"who's\": \"who is\",\n",
    "    \"won't\": \"will not\",\n",
    "    \"wouldn't\": \"would not\",\n",
    "    \"you'd\": \"you would\",\n",
    "    \"you'll\": \"you will\",\n",
    "    \"you're\": \"you are\"\n",
    "}"
   ],
   "metadata": {
    "collapsed": false,
    "pycharm": {
     "name": "#%%\n"
    }
   }
  },
  {
   "cell_type": "code",
   "execution_count": 54,
   "outputs": [],
   "source": [
    "def clean_text_from_tweet(text, remove_stopwords = False):\n",
    "    '''Remove unwanted characters, stopwords, and format the text to create fewer nulls word embeddings'''\n",
    "\n",
    "    # Convert words to lower case\n",
    "    text = text.lower()\n",
    "\n",
    "    # removing non-ascii characters\n",
    "    new_val = text.encode(\"ascii\", \"ignore\")\n",
    "    text = new_val.decode()\n",
    "\n",
    "    # Replace contractions with their longer forms\n",
    "    if True:\n",
    "        text = text.split()\n",
    "        new_text = []\n",
    "        for word in text:\n",
    "            if word in contractions:\n",
    "                new_text.append(contractions[word])\n",
    "            else:\n",
    "                new_text.append(word)\n",
    "        text = \" \".join(new_text)\n",
    "\n",
    "    # Format words and remove unwanted characters\n",
    "    text = re.sub(r'https?:\\/\\/.*[\\r\\n]*', '', text, flags=re.MULTILINE) # removes website links\n",
    "    text = re.sub(r'\\<a href', ' ', text) # removed HTML tags\n",
    "    text = re.sub(r'&amp;', '', text)\n",
    "    text = re.sub(r'[_\"\\-;%()|+&=*%.,!?:$\\[\\]/]', ' ', text)\n",
    "    text = re.sub(r'<br />', ' ', text)\n",
    "    text = re.sub(r'\\'', ' ', text)\n",
    "\n",
    "    text = re.sub(\"@[A-Za-z0-9_]+\",\"\", text)\n",
    "    text = re.sub(\"#[A-Za-z0-9_]+\",\"\", text)\n",
    "\n",
    "    # remove stop words\n",
    "    if remove_stopwords:\n",
    "        text = text.split()\n",
    "        stops = set(stopwords.words(\"english\")) # pulli-ng a list of stopwords from NLTK\n",
    "        text = [w for w in text if not w in stops]\n",
    "        text = \" \".join(text)\n",
    "\n",
    "    # Tokenize each word\n",
    "    text =  nltk.WordPunctTokenizer().tokenize(text)\n",
    "\n",
    "    return text"
   ],
   "metadata": {
    "collapsed": false,
    "pycharm": {
     "name": "#%%\n"
    }
   }
  },
  {
   "cell_type": "code",
   "execution_count": 52,
   "outputs": [],
   "source": [
    "tweets[\"clean_tweet\"] = tweets[\"tweet\"].apply(clean_text)\n",
    "tweets[\"clean_tweet_string\"] = tweets[\"clean_tweet\"].apply(lambda x: \" \".join(x) )"
   ],
   "metadata": {
    "collapsed": false,
    "pycharm": {
     "name": "#%%\n"
    }
   }
  },
  {
   "cell_type": "code",
   "execution_count": 56,
   "outputs": [
    {
     "data": {
      "text/plain": "       count  hate_speech  offensive_language  neither  class  \\\n0          3            0                   0        3      2   \n1          3            0                   3        0      1   \n2          3            0                   3        0      1   \n3          3            0                   2        1      1   \n4          6            0                   6        0      1   \n...      ...          ...                 ...      ...    ...   \n25291      3            0                   2        1      1   \n25292      3            0                   1        2      2   \n25294      3            0                   3        0      1   \n25295      6            0                   6        0      1   \n25296      3            0                   0        3      2   \n\n                                                   tweet  \\\n0      !!! RT @mayasolovely: As a woman you shouldn't...   \n1      !!!!! RT @mleew17: boy dats cold...tyga dwn ba...   \n2      !!!!!!! RT @UrKindOfBrand Dawg!!!! RT @80sbaby...   \n3      !!!!!!!!! RT @C_G_Anderson: @viva_based she lo...   \n4      !!!!!!!!!!!!! RT @ShenikaRoberts: The shit you...   \n...                                                  ...   \n25291  you's a muthaf***in lie &#8220;@LifeAsKing: @2...   \n25292  you've gone and broke the wrong heart baby, an...   \n25294  young buck wanna eat!!.. dat nigguh like I ain...   \n25295              youu got wild bitches tellin you lies   \n25296  ~~Ruffled | Ntac Eileen Dahlia - Beautiful col...   \n\n                                             clean_tweet  \\\n0      [rt, mayasolovely, as, a, woman, you, should, ...   \n1      [rt, mleew17, boy, dats, cold, tyga, dwn, bad,...   \n2      [rt, urkindofbrand, dawg, rt, 80sbaby4life, yo...   \n3      [rt, c, g, anderson, viva, based, she, look, l...   \n4      [rt, shenikaroberts, the, shit, you, hear, abo...   \n...                                                  ...   \n25291  [you, s, a, muthaf, in, lie, 8220, lifeasking,...   \n25292  [you, ve, gone, and, broke, the, wrong, heart,...   \n25294  [young, buck, wanna, eat, dat, nigguh, like, i...   \n25295      [youu, got, wild, bitches, tellin, you, lies]   \n25296  [~~, ruffled, ntac, eileen, dahlia, beautiful,...   \n\n                                      clean_tweet_string  \n0      rt mayasolovely as a woman you should not comp...  \n1      rt mleew17 boy dats cold tyga dwn bad for cuff...  \n2      rt urkindofbrand dawg rt 80sbaby4life you ever...  \n3      rt c g anderson viva based she look like a tranny  \n4      rt shenikaroberts the shit you hear about me m...  \n...                                                  ...  \n25291  you s a muthaf in lie 8220 lifeasking 20 pearl...  \n25292  you ve gone and broke the wrong heart baby and...  \n25294  young buck wanna eat dat nigguh like i aint fu...  \n25295              youu got wild bitches tellin you lies  \n25296  ~~ ruffled ntac eileen dahlia beautiful color ...  \n\n[24783 rows x 8 columns]",
      "text/html": "<div>\n<style scoped>\n    .dataframe tbody tr th:only-of-type {\n        vertical-align: middle;\n    }\n\n    .dataframe tbody tr th {\n        vertical-align: top;\n    }\n\n    .dataframe thead th {\n        text-align: right;\n    }\n</style>\n<table border=\"1\" class=\"dataframe\">\n  <thead>\n    <tr style=\"text-align: right;\">\n      <th></th>\n      <th>count</th>\n      <th>hate_speech</th>\n      <th>offensive_language</th>\n      <th>neither</th>\n      <th>class</th>\n      <th>tweet</th>\n      <th>clean_tweet</th>\n      <th>clean_tweet_string</th>\n    </tr>\n  </thead>\n  <tbody>\n    <tr>\n      <th>0</th>\n      <td>3</td>\n      <td>0</td>\n      <td>0</td>\n      <td>3</td>\n      <td>2</td>\n      <td>!!! RT @mayasolovely: As a woman you shouldn't...</td>\n      <td>[rt, mayasolovely, as, a, woman, you, should, ...</td>\n      <td>rt mayasolovely as a woman you should not comp...</td>\n    </tr>\n    <tr>\n      <th>1</th>\n      <td>3</td>\n      <td>0</td>\n      <td>3</td>\n      <td>0</td>\n      <td>1</td>\n      <td>!!!!! RT @mleew17: boy dats cold...tyga dwn ba...</td>\n      <td>[rt, mleew17, boy, dats, cold, tyga, dwn, bad,...</td>\n      <td>rt mleew17 boy dats cold tyga dwn bad for cuff...</td>\n    </tr>\n    <tr>\n      <th>2</th>\n      <td>3</td>\n      <td>0</td>\n      <td>3</td>\n      <td>0</td>\n      <td>1</td>\n      <td>!!!!!!! RT @UrKindOfBrand Dawg!!!! RT @80sbaby...</td>\n      <td>[rt, urkindofbrand, dawg, rt, 80sbaby4life, yo...</td>\n      <td>rt urkindofbrand dawg rt 80sbaby4life you ever...</td>\n    </tr>\n    <tr>\n      <th>3</th>\n      <td>3</td>\n      <td>0</td>\n      <td>2</td>\n      <td>1</td>\n      <td>1</td>\n      <td>!!!!!!!!! RT @C_G_Anderson: @viva_based she lo...</td>\n      <td>[rt, c, g, anderson, viva, based, she, look, l...</td>\n      <td>rt c g anderson viva based she look like a tranny</td>\n    </tr>\n    <tr>\n      <th>4</th>\n      <td>6</td>\n      <td>0</td>\n      <td>6</td>\n      <td>0</td>\n      <td>1</td>\n      <td>!!!!!!!!!!!!! RT @ShenikaRoberts: The shit you...</td>\n      <td>[rt, shenikaroberts, the, shit, you, hear, abo...</td>\n      <td>rt shenikaroberts the shit you hear about me m...</td>\n    </tr>\n    <tr>\n      <th>...</th>\n      <td>...</td>\n      <td>...</td>\n      <td>...</td>\n      <td>...</td>\n      <td>...</td>\n      <td>...</td>\n      <td>...</td>\n      <td>...</td>\n    </tr>\n    <tr>\n      <th>25291</th>\n      <td>3</td>\n      <td>0</td>\n      <td>2</td>\n      <td>1</td>\n      <td>1</td>\n      <td>you's a muthaf***in lie &amp;#8220;@LifeAsKing: @2...</td>\n      <td>[you, s, a, muthaf, in, lie, 8220, lifeasking,...</td>\n      <td>you s a muthaf in lie 8220 lifeasking 20 pearl...</td>\n    </tr>\n    <tr>\n      <th>25292</th>\n      <td>3</td>\n      <td>0</td>\n      <td>1</td>\n      <td>2</td>\n      <td>2</td>\n      <td>you've gone and broke the wrong heart baby, an...</td>\n      <td>[you, ve, gone, and, broke, the, wrong, heart,...</td>\n      <td>you ve gone and broke the wrong heart baby and...</td>\n    </tr>\n    <tr>\n      <th>25294</th>\n      <td>3</td>\n      <td>0</td>\n      <td>3</td>\n      <td>0</td>\n      <td>1</td>\n      <td>young buck wanna eat!!.. dat nigguh like I ain...</td>\n      <td>[young, buck, wanna, eat, dat, nigguh, like, i...</td>\n      <td>young buck wanna eat dat nigguh like i aint fu...</td>\n    </tr>\n    <tr>\n      <th>25295</th>\n      <td>6</td>\n      <td>0</td>\n      <td>6</td>\n      <td>0</td>\n      <td>1</td>\n      <td>youu got wild bitches tellin you lies</td>\n      <td>[youu, got, wild, bitches, tellin, you, lies]</td>\n      <td>youu got wild bitches tellin you lies</td>\n    </tr>\n    <tr>\n      <th>25296</th>\n      <td>3</td>\n      <td>0</td>\n      <td>0</td>\n      <td>3</td>\n      <td>2</td>\n      <td>~~Ruffled | Ntac Eileen Dahlia - Beautiful col...</td>\n      <td>[~~, ruffled, ntac, eileen, dahlia, beautiful,...</td>\n      <td>~~ ruffled ntac eileen dahlia beautiful color ...</td>\n    </tr>\n  </tbody>\n</table>\n<p>24783 rows × 8 columns</p>\n</div>"
     },
     "execution_count": 56,
     "metadata": {},
     "output_type": "execute_result"
    }
   ],
   "source": [
    "tweets"
   ],
   "metadata": {
    "collapsed": false,
    "pycharm": {
     "name": "#%%\n"
    }
   }
  }
 ],
 "metadata": {
  "kernelspec": {
   "name": "python3",
   "language": "python",
   "display_name": "Python 3 (ipykernel)"
  },
  "language_info": {
   "codemirror_mode": {
    "name": "ipython",
    "version": 2
   },
   "file_extension": ".py",
   "mimetype": "text/x-python",
   "name": "python",
   "nbconvert_exporter": "python",
   "pygments_lexer": "ipython2",
   "version": "2.7.6"
  }
 },
 "nbformat": 4,
 "nbformat_minor": 0
}