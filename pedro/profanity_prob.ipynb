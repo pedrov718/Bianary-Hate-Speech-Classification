{
 "cells": [
  {
   "cell_type": "markdown",
   "source": [
    "Will be used to impliment of a profanity porbability checker"
   ],
   "metadata": {
    "collapsed": false
   }
  }
 ],
 "metadata": {
  "kernelspec": {
   "name": "learn-env",
   "language": "python",
   "display_name": "Python (learn-env)"
  },
  "language_info": {
   "codemirror_mode": {
    "name": "ipython",
    "version": 2
   },
   "file_extension": ".py",
   "mimetype": "text/x-python",
   "name": "python",
   "nbconvert_exporter": "python",
   "pygments_lexer": "ipython2",
   "version": "2.7.6"
  }
 },
 "nbformat": 4,
 "nbformat_minor": 0
}
